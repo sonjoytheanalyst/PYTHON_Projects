{
  "nbformat": 4,
  "nbformat_minor": 0,
  "metadata": {
    "colab": {
      "provenance": []
    },
    "kernelspec": {
      "name": "python3",
      "display_name": "Python 3"
    },
    "language_info": {
      "name": "python"
    }
  },
  "cells": [
    {
      "cell_type": "code",
      "execution_count": 1,
      "metadata": {
        "id": "Lbt_L7pCU2tY"
      },
      "outputs": [],
      "source": [
        "import pandas as pd\n",
        "import numpy as np\n",
        "import matplotlib.pyplot as plt\n",
        "import seaborn as sns\n",
        "from sklearn.preprocessing import StandardScaler\n",
        "from sklearn.decomposition import PCA\n",
        "from sklearn.naive_bayes import GaussianNB\n",
        "from sklearn.neighbors import KNeighborsClassifier\n",
        "from xgboost import XGBClassifier\n",
        "from sklearn.model_selection import train_test_split\n",
        "from sklearn.linear_model import LogisticRegression\n",
        "from sklearn.tree import DecisionTreeClassifier\n",
        "from sklearn.ensemble import RandomForestClassifier\n",
        "from sklearn.svm import SVC\n",
        "from sklearn.neural_network import MLPClassifier\n",
        "from sklearn.metrics import accuracy_score, confusion_matrix, classification_report"
      ]
    },
    {
      "cell_type": "code",
      "source": [
        "# Checkout the labels of our data\n",
        "import pandas as pd\n",
        "df= pd.read_csv(\"/content/drive/MyDrive/fraudTest.csv\")\n",
        "df.head()"
      ],
      "metadata": {
        "colab": {
          "base_uri": "https://localhost:8080/",
          "height": 525
        },
        "id": "8q0JjcG_VUd_",
        "outputId": "e3875cd3-b344-43e8-a4fc-4c8040765b12"
      },
      "execution_count": 2,
      "outputs": [
        {
          "output_type": "execute_result",
          "data": {
            "text/plain": [
              "   Unnamed: 0 trans_date_trans_time            cc_num  \\\n",
              "0           0   2020-06-21 12:14:25  2291163933867244   \n",
              "1           1   2020-06-21 12:14:33  3573030041201292   \n",
              "2           2   2020-06-21 12:14:53  3598215285024754   \n",
              "3           3   2020-06-21 12:15:15  3591919803438423   \n",
              "4           4   2020-06-21 12:15:17  3526826139003047   \n",
              "\n",
              "                               merchant        category    amt   first  \\\n",
              "0                 fraud_Kirlin and Sons   personal_care   2.86    Jeff   \n",
              "1                  fraud_Sporer-Keebler   personal_care  29.84  Joanne   \n",
              "2  fraud_Swaniawski, Nitzsche and Welch  health_fitness  41.28  Ashley   \n",
              "3                     fraud_Haley Group        misc_pos  60.05   Brian   \n",
              "4                 fraud_Johnston-Casper          travel   3.19  Nathan   \n",
              "\n",
              "       last gender                       street  ...      lat      long  \\\n",
              "0   Elliott      M            351 Darlene Green  ...  33.9659  -80.9355   \n",
              "1  Williams      F             3638 Marsh Union  ...  40.3207 -110.4360   \n",
              "2     Lopez      F         9333 Valentine Point  ...  40.6729  -73.5365   \n",
              "3  Williams      M  32941 Krystal Mill Apt. 552  ...  28.5697  -80.8191   \n",
              "4    Massey      M     5783 Evan Roads Apt. 465  ...  44.2529  -85.0170   \n",
              "\n",
              "   city_pop                     job         dob  \\\n",
              "0    333497     Mechanical engineer  1968-03-19   \n",
              "1       302  Sales professional, IT  1990-01-17   \n",
              "2     34496       Librarian, public  1970-10-21   \n",
              "3     54767            Set designer  1987-07-25   \n",
              "4      1126      Furniture designer  1955-07-06   \n",
              "\n",
              "                          trans_num   unix_time  merch_lat  merch_long  \\\n",
              "0  2da90c7d74bd46a0caf3777415b3ebd3  1371816865  33.986391  -81.200714   \n",
              "1  324cc204407e99f51b0d6ca0055005e7  1371816873  39.450498 -109.960431   \n",
              "2  c81755dbbbea9d5c77f094348a7579be  1371816893  40.495810  -74.196111   \n",
              "3  2159175b9efe66dc301f149d3d5abf8c  1371816915  28.812398  -80.883061   \n",
              "4  57ff021bd3f328f8738bb535c302a31b  1371816917  44.959148  -85.884734   \n",
              "\n",
              "   is_fraud  \n",
              "0         0  \n",
              "1         0  \n",
              "2         0  \n",
              "3         0  \n",
              "4         0  \n",
              "\n",
              "[5 rows x 23 columns]"
            ],
            "text/html": [
              "\n",
              "  <div id=\"df-0fbe0837-6095-44d7-bdfd-1b735665a51f\">\n",
              "    <div class=\"colab-df-container\">\n",
              "      <div>\n",
              "<style scoped>\n",
              "    .dataframe tbody tr th:only-of-type {\n",
              "        vertical-align: middle;\n",
              "    }\n",
              "\n",
              "    .dataframe tbody tr th {\n",
              "        vertical-align: top;\n",
              "    }\n",
              "\n",
              "    .dataframe thead th {\n",
              "        text-align: right;\n",
              "    }\n",
              "</style>\n",
              "<table border=\"1\" class=\"dataframe\">\n",
              "  <thead>\n",
              "    <tr style=\"text-align: right;\">\n",
              "      <th></th>\n",
              "      <th>Unnamed: 0</th>\n",
              "      <th>trans_date_trans_time</th>\n",
              "      <th>cc_num</th>\n",
              "      <th>merchant</th>\n",
              "      <th>category</th>\n",
              "      <th>amt</th>\n",
              "      <th>first</th>\n",
              "      <th>last</th>\n",
              "      <th>gender</th>\n",
              "      <th>street</th>\n",
              "      <th>...</th>\n",
              "      <th>lat</th>\n",
              "      <th>long</th>\n",
              "      <th>city_pop</th>\n",
              "      <th>job</th>\n",
              "      <th>dob</th>\n",
              "      <th>trans_num</th>\n",
              "      <th>unix_time</th>\n",
              "      <th>merch_lat</th>\n",
              "      <th>merch_long</th>\n",
              "      <th>is_fraud</th>\n",
              "    </tr>\n",
              "  </thead>\n",
              "  <tbody>\n",
              "    <tr>\n",
              "      <th>0</th>\n",
              "      <td>0</td>\n",
              "      <td>2020-06-21 12:14:25</td>\n",
              "      <td>2291163933867244</td>\n",
              "      <td>fraud_Kirlin and Sons</td>\n",
              "      <td>personal_care</td>\n",
              "      <td>2.86</td>\n",
              "      <td>Jeff</td>\n",
              "      <td>Elliott</td>\n",
              "      <td>M</td>\n",
              "      <td>351 Darlene Green</td>\n",
              "      <td>...</td>\n",
              "      <td>33.9659</td>\n",
              "      <td>-80.9355</td>\n",
              "      <td>333497</td>\n",
              "      <td>Mechanical engineer</td>\n",
              "      <td>1968-03-19</td>\n",
              "      <td>2da90c7d74bd46a0caf3777415b3ebd3</td>\n",
              "      <td>1371816865</td>\n",
              "      <td>33.986391</td>\n",
              "      <td>-81.200714</td>\n",
              "      <td>0</td>\n",
              "    </tr>\n",
              "    <tr>\n",
              "      <th>1</th>\n",
              "      <td>1</td>\n",
              "      <td>2020-06-21 12:14:33</td>\n",
              "      <td>3573030041201292</td>\n",
              "      <td>fraud_Sporer-Keebler</td>\n",
              "      <td>personal_care</td>\n",
              "      <td>29.84</td>\n",
              "      <td>Joanne</td>\n",
              "      <td>Williams</td>\n",
              "      <td>F</td>\n",
              "      <td>3638 Marsh Union</td>\n",
              "      <td>...</td>\n",
              "      <td>40.3207</td>\n",
              "      <td>-110.4360</td>\n",
              "      <td>302</td>\n",
              "      <td>Sales professional, IT</td>\n",
              "      <td>1990-01-17</td>\n",
              "      <td>324cc204407e99f51b0d6ca0055005e7</td>\n",
              "      <td>1371816873</td>\n",
              "      <td>39.450498</td>\n",
              "      <td>-109.960431</td>\n",
              "      <td>0</td>\n",
              "    </tr>\n",
              "    <tr>\n",
              "      <th>2</th>\n",
              "      <td>2</td>\n",
              "      <td>2020-06-21 12:14:53</td>\n",
              "      <td>3598215285024754</td>\n",
              "      <td>fraud_Swaniawski, Nitzsche and Welch</td>\n",
              "      <td>health_fitness</td>\n",
              "      <td>41.28</td>\n",
              "      <td>Ashley</td>\n",
              "      <td>Lopez</td>\n",
              "      <td>F</td>\n",
              "      <td>9333 Valentine Point</td>\n",
              "      <td>...</td>\n",
              "      <td>40.6729</td>\n",
              "      <td>-73.5365</td>\n",
              "      <td>34496</td>\n",
              "      <td>Librarian, public</td>\n",
              "      <td>1970-10-21</td>\n",
              "      <td>c81755dbbbea9d5c77f094348a7579be</td>\n",
              "      <td>1371816893</td>\n",
              "      <td>40.495810</td>\n",
              "      <td>-74.196111</td>\n",
              "      <td>0</td>\n",
              "    </tr>\n",
              "    <tr>\n",
              "      <th>3</th>\n",
              "      <td>3</td>\n",
              "      <td>2020-06-21 12:15:15</td>\n",
              "      <td>3591919803438423</td>\n",
              "      <td>fraud_Haley Group</td>\n",
              "      <td>misc_pos</td>\n",
              "      <td>60.05</td>\n",
              "      <td>Brian</td>\n",
              "      <td>Williams</td>\n",
              "      <td>M</td>\n",
              "      <td>32941 Krystal Mill Apt. 552</td>\n",
              "      <td>...</td>\n",
              "      <td>28.5697</td>\n",
              "      <td>-80.8191</td>\n",
              "      <td>54767</td>\n",
              "      <td>Set designer</td>\n",
              "      <td>1987-07-25</td>\n",
              "      <td>2159175b9efe66dc301f149d3d5abf8c</td>\n",
              "      <td>1371816915</td>\n",
              "      <td>28.812398</td>\n",
              "      <td>-80.883061</td>\n",
              "      <td>0</td>\n",
              "    </tr>\n",
              "    <tr>\n",
              "      <th>4</th>\n",
              "      <td>4</td>\n",
              "      <td>2020-06-21 12:15:17</td>\n",
              "      <td>3526826139003047</td>\n",
              "      <td>fraud_Johnston-Casper</td>\n",
              "      <td>travel</td>\n",
              "      <td>3.19</td>\n",
              "      <td>Nathan</td>\n",
              "      <td>Massey</td>\n",
              "      <td>M</td>\n",
              "      <td>5783 Evan Roads Apt. 465</td>\n",
              "      <td>...</td>\n",
              "      <td>44.2529</td>\n",
              "      <td>-85.0170</td>\n",
              "      <td>1126</td>\n",
              "      <td>Furniture designer</td>\n",
              "      <td>1955-07-06</td>\n",
              "      <td>57ff021bd3f328f8738bb535c302a31b</td>\n",
              "      <td>1371816917</td>\n",
              "      <td>44.959148</td>\n",
              "      <td>-85.884734</td>\n",
              "      <td>0</td>\n",
              "    </tr>\n",
              "  </tbody>\n",
              "</table>\n",
              "<p>5 rows × 23 columns</p>\n",
              "</div>\n",
              "      <button class=\"colab-df-convert\" onclick=\"convertToInteractive('df-0fbe0837-6095-44d7-bdfd-1b735665a51f')\"\n",
              "              title=\"Convert this dataframe to an interactive table.\"\n",
              "              style=\"display:none;\">\n",
              "        \n",
              "  <svg xmlns=\"http://www.w3.org/2000/svg\" height=\"24px\"viewBox=\"0 0 24 24\"\n",
              "       width=\"24px\">\n",
              "    <path d=\"M0 0h24v24H0V0z\" fill=\"none\"/>\n",
              "    <path d=\"M18.56 5.44l.94 2.06.94-2.06 2.06-.94-2.06-.94-.94-2.06-.94 2.06-2.06.94zm-11 1L8.5 8.5l.94-2.06 2.06-.94-2.06-.94L8.5 2.5l-.94 2.06-2.06.94zm10 10l.94 2.06.94-2.06 2.06-.94-2.06-.94-.94-2.06-.94 2.06-2.06.94z\"/><path d=\"M17.41 7.96l-1.37-1.37c-.4-.4-.92-.59-1.43-.59-.52 0-1.04.2-1.43.59L10.3 9.45l-7.72 7.72c-.78.78-.78 2.05 0 2.83L4 21.41c.39.39.9.59 1.41.59.51 0 1.02-.2 1.41-.59l7.78-7.78 2.81-2.81c.8-.78.8-2.07 0-2.86zM5.41 20L4 18.59l7.72-7.72 1.47 1.35L5.41 20z\"/>\n",
              "  </svg>\n",
              "      </button>\n",
              "      \n",
              "  <style>\n",
              "    .colab-df-container {\n",
              "      display:flex;\n",
              "      flex-wrap:wrap;\n",
              "      gap: 12px;\n",
              "    }\n",
              "\n",
              "    .colab-df-convert {\n",
              "      background-color: #E8F0FE;\n",
              "      border: none;\n",
              "      border-radius: 50%;\n",
              "      cursor: pointer;\n",
              "      display: none;\n",
              "      fill: #1967D2;\n",
              "      height: 32px;\n",
              "      padding: 0 0 0 0;\n",
              "      width: 32px;\n",
              "    }\n",
              "\n",
              "    .colab-df-convert:hover {\n",
              "      background-color: #E2EBFA;\n",
              "      box-shadow: 0px 1px 2px rgba(60, 64, 67, 0.3), 0px 1px 3px 1px rgba(60, 64, 67, 0.15);\n",
              "      fill: #174EA6;\n",
              "    }\n",
              "\n",
              "    [theme=dark] .colab-df-convert {\n",
              "      background-color: #3B4455;\n",
              "      fill: #D2E3FC;\n",
              "    }\n",
              "\n",
              "    [theme=dark] .colab-df-convert:hover {\n",
              "      background-color: #434B5C;\n",
              "      box-shadow: 0px 1px 3px 1px rgba(0, 0, 0, 0.15);\n",
              "      filter: drop-shadow(0px 1px 2px rgba(0, 0, 0, 0.3));\n",
              "      fill: #FFFFFF;\n",
              "    }\n",
              "  </style>\n",
              "\n",
              "      <script>\n",
              "        const buttonEl =\n",
              "          document.querySelector('#df-0fbe0837-6095-44d7-bdfd-1b735665a51f button.colab-df-convert');\n",
              "        buttonEl.style.display =\n",
              "          google.colab.kernel.accessAllowed ? 'block' : 'none';\n",
              "\n",
              "        async function convertToInteractive(key) {\n",
              "          const element = document.querySelector('#df-0fbe0837-6095-44d7-bdfd-1b735665a51f');\n",
              "          const dataTable =\n",
              "            await google.colab.kernel.invokeFunction('convertToInteractive',\n",
              "                                                     [key], {});\n",
              "          if (!dataTable) return;\n",
              "\n",
              "          const docLinkHtml = 'Like what you see? Visit the ' +\n",
              "            '<a target=\"_blank\" href=https://colab.research.google.com/notebooks/data_table.ipynb>data table notebook</a>'\n",
              "            + ' to learn more about interactive tables.';\n",
              "          element.innerHTML = '';\n",
              "          dataTable['output_type'] = 'display_data';\n",
              "          await google.colab.output.renderOutput(dataTable, element);\n",
              "          const docLink = document.createElement('div');\n",
              "          docLink.innerHTML = docLinkHtml;\n",
              "          element.appendChild(docLink);\n",
              "        }\n",
              "      </script>\n",
              "    </div>\n",
              "  </div>\n",
              "  "
            ]
          },
          "metadata": {},
          "execution_count": 2
        }
      ]
    },
    {
      "cell_type": "code",
      "source": [
        "df.isnull().sum()"
      ],
      "metadata": {
        "colab": {
          "base_uri": "https://localhost:8080/"
        },
        "id": "wDvhm0GiWh4d",
        "outputId": "336245a5-0ef4-4647-8656-bd27057f5f3d"
      },
      "execution_count": 3,
      "outputs": [
        {
          "output_type": "execute_result",
          "data": {
            "text/plain": [
              "Unnamed: 0               0\n",
              "trans_date_trans_time    0\n",
              "cc_num                   0\n",
              "merchant                 0\n",
              "category                 0\n",
              "amt                      0\n",
              "first                    0\n",
              "last                     0\n",
              "gender                   0\n",
              "street                   0\n",
              "city                     0\n",
              "state                    0\n",
              "zip                      0\n",
              "lat                      0\n",
              "long                     0\n",
              "city_pop                 0\n",
              "job                      0\n",
              "dob                      0\n",
              "trans_num                0\n",
              "unix_time                0\n",
              "merch_lat                0\n",
              "merch_long               0\n",
              "is_fraud                 0\n",
              "dtype: int64"
            ]
          },
          "metadata": {},
          "execution_count": 3
        }
      ]
    },
    {
      "cell_type": "code",
      "source": [
        "df.dtypes"
      ],
      "metadata": {
        "colab": {
          "base_uri": "https://localhost:8080/"
        },
        "id": "D5MyQ1UqWx2z",
        "outputId": "9eed6e25-40b7-4f88-fd62-066cf8affe01"
      },
      "execution_count": 4,
      "outputs": [
        {
          "output_type": "execute_result",
          "data": {
            "text/plain": [
              "Unnamed: 0                 int64\n",
              "trans_date_trans_time     object\n",
              "cc_num                     int64\n",
              "merchant                  object\n",
              "category                  object\n",
              "amt                      float64\n",
              "first                     object\n",
              "last                      object\n",
              "gender                    object\n",
              "street                    object\n",
              "city                      object\n",
              "state                     object\n",
              "zip                        int64\n",
              "lat                      float64\n",
              "long                     float64\n",
              "city_pop                   int64\n",
              "job                       object\n",
              "dob                       object\n",
              "trans_num                 object\n",
              "unix_time                  int64\n",
              "merch_lat                float64\n",
              "merch_long               float64\n",
              "is_fraud                   int64\n",
              "dtype: object"
            ]
          },
          "metadata": {},
          "execution_count": 4
        }
      ]
    },
    {
      "cell_type": "code",
      "source": [
        "df.shape"
      ],
      "metadata": {
        "colab": {
          "base_uri": "https://localhost:8080/"
        },
        "id": "rH4FwPOuW4yH",
        "outputId": "3f0c78ba-0ce4-4578-ca0a-008bc46a0334"
      },
      "execution_count": 6,
      "outputs": [
        {
          "output_type": "execute_result",
          "data": {
            "text/plain": [
              "(555719, 23)"
            ]
          },
          "metadata": {},
          "execution_count": 6
        }
      ]
    },
    {
      "cell_type": "code",
      "source": [
        "df.columns"
      ],
      "metadata": {
        "colab": {
          "base_uri": "https://localhost:8080/"
        },
        "id": "E7zQdnmqW-jy",
        "outputId": "f42bf3c5-faf7-4e40-9a3f-d1e0e1199aec"
      },
      "execution_count": 5,
      "outputs": [
        {
          "output_type": "execute_result",
          "data": {
            "text/plain": [
              "Index(['Unnamed: 0', 'trans_date_trans_time', 'cc_num', 'merchant', 'category',\n",
              "       'amt', 'first', 'last', 'gender', 'street', 'city', 'state', 'zip',\n",
              "       'lat', 'long', 'city_pop', 'job', 'dob', 'trans_num', 'unix_time',\n",
              "       'merch_lat', 'merch_long', 'is_fraud'],\n",
              "      dtype='object')"
            ]
          },
          "metadata": {},
          "execution_count": 5
        }
      ]
    },
    {
      "cell_type": "markdown",
      "source": [
        "Convert string to categories"
      ],
      "metadata": {
        "id": "XwJXAIRW3-_c"
      }
    },
    {
      "cell_type": "code",
      "source": [
        "df.head().T"
      ],
      "metadata": {
        "colab": {
          "base_uri": "https://localhost:8080/",
          "height": 852
        },
        "id": "TFKPnCTe3QI3",
        "outputId": "17d787c6-b9bd-4b08-c4b5-5c8770de242e"
      },
      "execution_count": 6,
      "outputs": [
        {
          "output_type": "execute_result",
          "data": {
            "text/plain": [
              "                                                      0  \\\n",
              "Unnamed: 0                                            0   \n",
              "trans_date_trans_time               2020-06-21 12:14:25   \n",
              "cc_num                                 2291163933867244   \n",
              "merchant                          fraud_Kirlin and Sons   \n",
              "category                                  personal_care   \n",
              "amt                                                2.86   \n",
              "first                                              Jeff   \n",
              "last                                            Elliott   \n",
              "gender                                                M   \n",
              "street                                351 Darlene Green   \n",
              "city                                           Columbia   \n",
              "state                                                SC   \n",
              "zip                                               29209   \n",
              "lat                                             33.9659   \n",
              "long                                           -80.9355   \n",
              "city_pop                                         333497   \n",
              "job                                 Mechanical engineer   \n",
              "dob                                          1968-03-19   \n",
              "trans_num              2da90c7d74bd46a0caf3777415b3ebd3   \n",
              "unix_time                                    1371816865   \n",
              "merch_lat                                     33.986391   \n",
              "merch_long                                   -81.200714   \n",
              "is_fraud                                              0   \n",
              "\n",
              "                                                      1  \\\n",
              "Unnamed: 0                                            1   \n",
              "trans_date_trans_time               2020-06-21 12:14:33   \n",
              "cc_num                                 3573030041201292   \n",
              "merchant                           fraud_Sporer-Keebler   \n",
              "category                                  personal_care   \n",
              "amt                                               29.84   \n",
              "first                                            Joanne   \n",
              "last                                           Williams   \n",
              "gender                                                F   \n",
              "street                                 3638 Marsh Union   \n",
              "city                                            Altonah   \n",
              "state                                                UT   \n",
              "zip                                               84002   \n",
              "lat                                             40.3207   \n",
              "long                                           -110.436   \n",
              "city_pop                                            302   \n",
              "job                              Sales professional, IT   \n",
              "dob                                          1990-01-17   \n",
              "trans_num              324cc204407e99f51b0d6ca0055005e7   \n",
              "unix_time                                    1371816873   \n",
              "merch_lat                                     39.450498   \n",
              "merch_long                                  -109.960431   \n",
              "is_fraud                                              0   \n",
              "\n",
              "                                                          2  \\\n",
              "Unnamed: 0                                                2   \n",
              "trans_date_trans_time                   2020-06-21 12:14:53   \n",
              "cc_num                                     3598215285024754   \n",
              "merchant               fraud_Swaniawski, Nitzsche and Welch   \n",
              "category                                     health_fitness   \n",
              "amt                                                   41.28   \n",
              "first                                                Ashley   \n",
              "last                                                  Lopez   \n",
              "gender                                                    F   \n",
              "street                                 9333 Valentine Point   \n",
              "city                                               Bellmore   \n",
              "state                                                    NY   \n",
              "zip                                                   11710   \n",
              "lat                                                 40.6729   \n",
              "long                                               -73.5365   \n",
              "city_pop                                              34496   \n",
              "job                                       Librarian, public   \n",
              "dob                                              1970-10-21   \n",
              "trans_num                  c81755dbbbea9d5c77f094348a7579be   \n",
              "unix_time                                        1371816893   \n",
              "merch_lat                                          40.49581   \n",
              "merch_long                                       -74.196111   \n",
              "is_fraud                                                  0   \n",
              "\n",
              "                                                      3  \\\n",
              "Unnamed: 0                                            3   \n",
              "trans_date_trans_time               2020-06-21 12:15:15   \n",
              "cc_num                                 3591919803438423   \n",
              "merchant                              fraud_Haley Group   \n",
              "category                                       misc_pos   \n",
              "amt                                               60.05   \n",
              "first                                             Brian   \n",
              "last                                           Williams   \n",
              "gender                                                M   \n",
              "street                      32941 Krystal Mill Apt. 552   \n",
              "city                                         Titusville   \n",
              "state                                                FL   \n",
              "zip                                               32780   \n",
              "lat                                             28.5697   \n",
              "long                                           -80.8191   \n",
              "city_pop                                          54767   \n",
              "job                                        Set designer   \n",
              "dob                                          1987-07-25   \n",
              "trans_num              2159175b9efe66dc301f149d3d5abf8c   \n",
              "unix_time                                    1371816915   \n",
              "merch_lat                                     28.812398   \n",
              "merch_long                                   -80.883061   \n",
              "is_fraud                                              0   \n",
              "\n",
              "                                                      4  \n",
              "Unnamed: 0                                            4  \n",
              "trans_date_trans_time               2020-06-21 12:15:17  \n",
              "cc_num                                 3526826139003047  \n",
              "merchant                          fraud_Johnston-Casper  \n",
              "category                                         travel  \n",
              "amt                                                3.19  \n",
              "first                                            Nathan  \n",
              "last                                             Massey  \n",
              "gender                                                M  \n",
              "street                         5783 Evan Roads Apt. 465  \n",
              "city                                           Falmouth  \n",
              "state                                                MI  \n",
              "zip                                               49632  \n",
              "lat                                             44.2529  \n",
              "long                                            -85.017  \n",
              "city_pop                                           1126  \n",
              "job                                  Furniture designer  \n",
              "dob                                          1955-07-06  \n",
              "trans_num              57ff021bd3f328f8738bb535c302a31b  \n",
              "unix_time                                    1371816917  \n",
              "merch_lat                                     44.959148  \n",
              "merch_long                                   -85.884734  \n",
              "is_fraud                                              0  "
            ],
            "text/html": [
              "\n",
              "  <div id=\"df-d5f93bb6-cc07-4d9f-bcd2-881f7b59fd6c\">\n",
              "    <div class=\"colab-df-container\">\n",
              "      <div>\n",
              "<style scoped>\n",
              "    .dataframe tbody tr th:only-of-type {\n",
              "        vertical-align: middle;\n",
              "    }\n",
              "\n",
              "    .dataframe tbody tr th {\n",
              "        vertical-align: top;\n",
              "    }\n",
              "\n",
              "    .dataframe thead th {\n",
              "        text-align: right;\n",
              "    }\n",
              "</style>\n",
              "<table border=\"1\" class=\"dataframe\">\n",
              "  <thead>\n",
              "    <tr style=\"text-align: right;\">\n",
              "      <th></th>\n",
              "      <th>0</th>\n",
              "      <th>1</th>\n",
              "      <th>2</th>\n",
              "      <th>3</th>\n",
              "      <th>4</th>\n",
              "    </tr>\n",
              "  </thead>\n",
              "  <tbody>\n",
              "    <tr>\n",
              "      <th>Unnamed: 0</th>\n",
              "      <td>0</td>\n",
              "      <td>1</td>\n",
              "      <td>2</td>\n",
              "      <td>3</td>\n",
              "      <td>4</td>\n",
              "    </tr>\n",
              "    <tr>\n",
              "      <th>trans_date_trans_time</th>\n",
              "      <td>2020-06-21 12:14:25</td>\n",
              "      <td>2020-06-21 12:14:33</td>\n",
              "      <td>2020-06-21 12:14:53</td>\n",
              "      <td>2020-06-21 12:15:15</td>\n",
              "      <td>2020-06-21 12:15:17</td>\n",
              "    </tr>\n",
              "    <tr>\n",
              "      <th>cc_num</th>\n",
              "      <td>2291163933867244</td>\n",
              "      <td>3573030041201292</td>\n",
              "      <td>3598215285024754</td>\n",
              "      <td>3591919803438423</td>\n",
              "      <td>3526826139003047</td>\n",
              "    </tr>\n",
              "    <tr>\n",
              "      <th>merchant</th>\n",
              "      <td>fraud_Kirlin and Sons</td>\n",
              "      <td>fraud_Sporer-Keebler</td>\n",
              "      <td>fraud_Swaniawski, Nitzsche and Welch</td>\n",
              "      <td>fraud_Haley Group</td>\n",
              "      <td>fraud_Johnston-Casper</td>\n",
              "    </tr>\n",
              "    <tr>\n",
              "      <th>category</th>\n",
              "      <td>personal_care</td>\n",
              "      <td>personal_care</td>\n",
              "      <td>health_fitness</td>\n",
              "      <td>misc_pos</td>\n",
              "      <td>travel</td>\n",
              "    </tr>\n",
              "    <tr>\n",
              "      <th>amt</th>\n",
              "      <td>2.86</td>\n",
              "      <td>29.84</td>\n",
              "      <td>41.28</td>\n",
              "      <td>60.05</td>\n",
              "      <td>3.19</td>\n",
              "    </tr>\n",
              "    <tr>\n",
              "      <th>first</th>\n",
              "      <td>Jeff</td>\n",
              "      <td>Joanne</td>\n",
              "      <td>Ashley</td>\n",
              "      <td>Brian</td>\n",
              "      <td>Nathan</td>\n",
              "    </tr>\n",
              "    <tr>\n",
              "      <th>last</th>\n",
              "      <td>Elliott</td>\n",
              "      <td>Williams</td>\n",
              "      <td>Lopez</td>\n",
              "      <td>Williams</td>\n",
              "      <td>Massey</td>\n",
              "    </tr>\n",
              "    <tr>\n",
              "      <th>gender</th>\n",
              "      <td>M</td>\n",
              "      <td>F</td>\n",
              "      <td>F</td>\n",
              "      <td>M</td>\n",
              "      <td>M</td>\n",
              "    </tr>\n",
              "    <tr>\n",
              "      <th>street</th>\n",
              "      <td>351 Darlene Green</td>\n",
              "      <td>3638 Marsh Union</td>\n",
              "      <td>9333 Valentine Point</td>\n",
              "      <td>32941 Krystal Mill Apt. 552</td>\n",
              "      <td>5783 Evan Roads Apt. 465</td>\n",
              "    </tr>\n",
              "    <tr>\n",
              "      <th>city</th>\n",
              "      <td>Columbia</td>\n",
              "      <td>Altonah</td>\n",
              "      <td>Bellmore</td>\n",
              "      <td>Titusville</td>\n",
              "      <td>Falmouth</td>\n",
              "    </tr>\n",
              "    <tr>\n",
              "      <th>state</th>\n",
              "      <td>SC</td>\n",
              "      <td>UT</td>\n",
              "      <td>NY</td>\n",
              "      <td>FL</td>\n",
              "      <td>MI</td>\n",
              "    </tr>\n",
              "    <tr>\n",
              "      <th>zip</th>\n",
              "      <td>29209</td>\n",
              "      <td>84002</td>\n",
              "      <td>11710</td>\n",
              "      <td>32780</td>\n",
              "      <td>49632</td>\n",
              "    </tr>\n",
              "    <tr>\n",
              "      <th>lat</th>\n",
              "      <td>33.9659</td>\n",
              "      <td>40.3207</td>\n",
              "      <td>40.6729</td>\n",
              "      <td>28.5697</td>\n",
              "      <td>44.2529</td>\n",
              "    </tr>\n",
              "    <tr>\n",
              "      <th>long</th>\n",
              "      <td>-80.9355</td>\n",
              "      <td>-110.436</td>\n",
              "      <td>-73.5365</td>\n",
              "      <td>-80.8191</td>\n",
              "      <td>-85.017</td>\n",
              "    </tr>\n",
              "    <tr>\n",
              "      <th>city_pop</th>\n",
              "      <td>333497</td>\n",
              "      <td>302</td>\n",
              "      <td>34496</td>\n",
              "      <td>54767</td>\n",
              "      <td>1126</td>\n",
              "    </tr>\n",
              "    <tr>\n",
              "      <th>job</th>\n",
              "      <td>Mechanical engineer</td>\n",
              "      <td>Sales professional, IT</td>\n",
              "      <td>Librarian, public</td>\n",
              "      <td>Set designer</td>\n",
              "      <td>Furniture designer</td>\n",
              "    </tr>\n",
              "    <tr>\n",
              "      <th>dob</th>\n",
              "      <td>1968-03-19</td>\n",
              "      <td>1990-01-17</td>\n",
              "      <td>1970-10-21</td>\n",
              "      <td>1987-07-25</td>\n",
              "      <td>1955-07-06</td>\n",
              "    </tr>\n",
              "    <tr>\n",
              "      <th>trans_num</th>\n",
              "      <td>2da90c7d74bd46a0caf3777415b3ebd3</td>\n",
              "      <td>324cc204407e99f51b0d6ca0055005e7</td>\n",
              "      <td>c81755dbbbea9d5c77f094348a7579be</td>\n",
              "      <td>2159175b9efe66dc301f149d3d5abf8c</td>\n",
              "      <td>57ff021bd3f328f8738bb535c302a31b</td>\n",
              "    </tr>\n",
              "    <tr>\n",
              "      <th>unix_time</th>\n",
              "      <td>1371816865</td>\n",
              "      <td>1371816873</td>\n",
              "      <td>1371816893</td>\n",
              "      <td>1371816915</td>\n",
              "      <td>1371816917</td>\n",
              "    </tr>\n",
              "    <tr>\n",
              "      <th>merch_lat</th>\n",
              "      <td>33.986391</td>\n",
              "      <td>39.450498</td>\n",
              "      <td>40.49581</td>\n",
              "      <td>28.812398</td>\n",
              "      <td>44.959148</td>\n",
              "    </tr>\n",
              "    <tr>\n",
              "      <th>merch_long</th>\n",
              "      <td>-81.200714</td>\n",
              "      <td>-109.960431</td>\n",
              "      <td>-74.196111</td>\n",
              "      <td>-80.883061</td>\n",
              "      <td>-85.884734</td>\n",
              "    </tr>\n",
              "    <tr>\n",
              "      <th>is_fraud</th>\n",
              "      <td>0</td>\n",
              "      <td>0</td>\n",
              "      <td>0</td>\n",
              "      <td>0</td>\n",
              "      <td>0</td>\n",
              "    </tr>\n",
              "  </tbody>\n",
              "</table>\n",
              "</div>\n",
              "      <button class=\"colab-df-convert\" onclick=\"convertToInteractive('df-d5f93bb6-cc07-4d9f-bcd2-881f7b59fd6c')\"\n",
              "              title=\"Convert this dataframe to an interactive table.\"\n",
              "              style=\"display:none;\">\n",
              "        \n",
              "  <svg xmlns=\"http://www.w3.org/2000/svg\" height=\"24px\"viewBox=\"0 0 24 24\"\n",
              "       width=\"24px\">\n",
              "    <path d=\"M0 0h24v24H0V0z\" fill=\"none\"/>\n",
              "    <path d=\"M18.56 5.44l.94 2.06.94-2.06 2.06-.94-2.06-.94-.94-2.06-.94 2.06-2.06.94zm-11 1L8.5 8.5l.94-2.06 2.06-.94-2.06-.94L8.5 2.5l-.94 2.06-2.06.94zm10 10l.94 2.06.94-2.06 2.06-.94-2.06-.94-.94-2.06-.94 2.06-2.06.94z\"/><path d=\"M17.41 7.96l-1.37-1.37c-.4-.4-.92-.59-1.43-.59-.52 0-1.04.2-1.43.59L10.3 9.45l-7.72 7.72c-.78.78-.78 2.05 0 2.83L4 21.41c.39.39.9.59 1.41.59.51 0 1.02-.2 1.41-.59l7.78-7.78 2.81-2.81c.8-.78.8-2.07 0-2.86zM5.41 20L4 18.59l7.72-7.72 1.47 1.35L5.41 20z\"/>\n",
              "  </svg>\n",
              "      </button>\n",
              "      \n",
              "  <style>\n",
              "    .colab-df-container {\n",
              "      display:flex;\n",
              "      flex-wrap:wrap;\n",
              "      gap: 12px;\n",
              "    }\n",
              "\n",
              "    .colab-df-convert {\n",
              "      background-color: #E8F0FE;\n",
              "      border: none;\n",
              "      border-radius: 50%;\n",
              "      cursor: pointer;\n",
              "      display: none;\n",
              "      fill: #1967D2;\n",
              "      height: 32px;\n",
              "      padding: 0 0 0 0;\n",
              "      width: 32px;\n",
              "    }\n",
              "\n",
              "    .colab-df-convert:hover {\n",
              "      background-color: #E2EBFA;\n",
              "      box-shadow: 0px 1px 2px rgba(60, 64, 67, 0.3), 0px 1px 3px 1px rgba(60, 64, 67, 0.15);\n",
              "      fill: #174EA6;\n",
              "    }\n",
              "\n",
              "    [theme=dark] .colab-df-convert {\n",
              "      background-color: #3B4455;\n",
              "      fill: #D2E3FC;\n",
              "    }\n",
              "\n",
              "    [theme=dark] .colab-df-convert:hover {\n",
              "      background-color: #434B5C;\n",
              "      box-shadow: 0px 1px 3px 1px rgba(0, 0, 0, 0.15);\n",
              "      filter: drop-shadow(0px 1px 2px rgba(0, 0, 0, 0.3));\n",
              "      fill: #FFFFFF;\n",
              "    }\n",
              "  </style>\n",
              "\n",
              "      <script>\n",
              "        const buttonEl =\n",
              "          document.querySelector('#df-d5f93bb6-cc07-4d9f-bcd2-881f7b59fd6c button.colab-df-convert');\n",
              "        buttonEl.style.display =\n",
              "          google.colab.kernel.accessAllowed ? 'block' : 'none';\n",
              "\n",
              "        async function convertToInteractive(key) {\n",
              "          const element = document.querySelector('#df-d5f93bb6-cc07-4d9f-bcd2-881f7b59fd6c');\n",
              "          const dataTable =\n",
              "            await google.colab.kernel.invokeFunction('convertToInteractive',\n",
              "                                                     [key], {});\n",
              "          if (!dataTable) return;\n",
              "\n",
              "          const docLinkHtml = 'Like what you see? Visit the ' +\n",
              "            '<a target=\"_blank\" href=https://colab.research.google.com/notebooks/data_table.ipynb>data table notebook</a>'\n",
              "            + ' to learn more about interactive tables.';\n",
              "          element.innerHTML = '';\n",
              "          dataTable['output_type'] = 'display_data';\n",
              "          await google.colab.output.renderOutput(dataTable, element);\n",
              "          const docLink = document.createElement('div');\n",
              "          docLink.innerHTML = docLinkHtml;\n",
              "          element.appendChild(docLink);\n",
              "        }\n",
              "      </script>\n",
              "    </div>\n",
              "  </div>\n",
              "  "
            ]
          },
          "metadata": {},
          "execution_count": 6
        }
      ]
    },
    {
      "cell_type": "code",
      "source": [
        "# Find the columns which contain strings\n",
        "for label, content in df.items():\n",
        "    if pd.api.types.is_string_dtype(content):\n",
        "        print(label)"
      ],
      "metadata": {
        "colab": {
          "base_uri": "https://localhost:8080/"
        },
        "id": "iRyhhxq_4b-3",
        "outputId": "db18cb43-e923-4ef0-f037-3a0ab9e026c0"
      },
      "execution_count": 7,
      "outputs": [
        {
          "output_type": "stream",
          "name": "stdout",
          "text": [
            "trans_date_trans_time\n",
            "merchant\n",
            "category\n",
            "first\n",
            "last\n",
            "gender\n",
            "street\n",
            "city\n",
            "state\n",
            "job\n",
            "dob\n",
            "trans_num\n"
          ]
        }
      ]
    },
    {
      "cell_type": "code",
      "source": [
        "# This will turn all of the string value into category values\n",
        "for label, content in df.items():\n",
        "    if pd.api.types.is_string_dtype(content):\n",
        "        df[label] = content.astype(\"category\").cat.as_ordered()"
      ],
      "metadata": {
        "id": "qltvJj2Z5Bbl"
      },
      "execution_count": 8,
      "outputs": []
    },
    {
      "cell_type": "code",
      "source": [
        "df.info()"
      ],
      "metadata": {
        "colab": {
          "base_uri": "https://localhost:8080/"
        },
        "id": "CCgTbZzi6FaD",
        "outputId": "5b4c9124-46c8-474f-f3bb-4197e3845c4e"
      },
      "execution_count": 9,
      "outputs": [
        {
          "output_type": "stream",
          "name": "stdout",
          "text": [
            "<class 'pandas.core.frame.DataFrame'>\n",
            "RangeIndex: 555719 entries, 0 to 555718\n",
            "Data columns (total 23 columns):\n",
            " #   Column                 Non-Null Count   Dtype   \n",
            "---  ------                 --------------   -----   \n",
            " 0   Unnamed: 0             555719 non-null  int64   \n",
            " 1   trans_date_trans_time  555719 non-null  category\n",
            " 2   cc_num                 555719 non-null  int64   \n",
            " 3   merchant               555719 non-null  category\n",
            " 4   category               555719 non-null  category\n",
            " 5   amt                    555719 non-null  float64 \n",
            " 6   first                  555719 non-null  category\n",
            " 7   last                   555719 non-null  category\n",
            " 8   gender                 555719 non-null  category\n",
            " 9   street                 555719 non-null  category\n",
            " 10  city                   555719 non-null  category\n",
            " 11  state                  555719 non-null  category\n",
            " 12  zip                    555719 non-null  int64   \n",
            " 13  lat                    555719 non-null  float64 \n",
            " 14  long                   555719 non-null  float64 \n",
            " 15  city_pop               555719 non-null  int64   \n",
            " 16  job                    555719 non-null  category\n",
            " 17  dob                    555719 non-null  category\n",
            " 18  trans_num              555719 non-null  category\n",
            " 19  unix_time              555719 non-null  int64   \n",
            " 20  merch_lat              555719 non-null  float64 \n",
            " 21  merch_long             555719 non-null  float64 \n",
            " 22  is_fraud               555719 non-null  int64   \n",
            "dtypes: category(12), float64(5), int64(6)\n",
            "memory usage: 100.7 MB\n"
          ]
        }
      ]
    },
    {
      "cell_type": "code",
      "source": [
        "df.state.cat.categories"
      ],
      "metadata": {
        "colab": {
          "base_uri": "https://localhost:8080/"
        },
        "id": "vxyamFbZ6NwU",
        "outputId": "70c5615b-b7c4-47b3-c2c4-cd044480c96f"
      },
      "execution_count": 10,
      "outputs": [
        {
          "output_type": "execute_result",
          "data": {
            "text/plain": [
              "Index(['AK', 'AL', 'AR', 'AZ', 'CA', 'CO', 'CT', 'DC', 'FL', 'GA', 'HI', 'IA',\n",
              "       'ID', 'IL', 'IN', 'KS', 'KY', 'LA', 'MA', 'MD', 'ME', 'MI', 'MN', 'MO',\n",
              "       'MS', 'MT', 'NC', 'ND', 'NE', 'NH', 'NJ', 'NM', 'NV', 'NY', 'OH', 'OK',\n",
              "       'OR', 'PA', 'RI', 'SC', 'SD', 'TN', 'TX', 'UT', 'VA', 'VT', 'WA', 'WI',\n",
              "       'WV', 'WY'],\n",
              "      dtype='object')"
            ]
          },
          "metadata": {},
          "execution_count": 10
        }
      ]
    },
    {
      "cell_type": "code",
      "source": [
        "# Check missing data\n",
        "df.isnull().sum()/len(df)"
      ],
      "metadata": {
        "colab": {
          "base_uri": "https://localhost:8080/"
        },
        "id": "8aLa62wy6YoZ",
        "outputId": "9d85d423-1fd7-4468-f7ff-93f6663c857b"
      },
      "execution_count": 11,
      "outputs": [
        {
          "output_type": "execute_result",
          "data": {
            "text/plain": [
              "Unnamed: 0               0.0\n",
              "trans_date_trans_time    0.0\n",
              "cc_num                   0.0\n",
              "merchant                 0.0\n",
              "category                 0.0\n",
              "amt                      0.0\n",
              "first                    0.0\n",
              "last                     0.0\n",
              "gender                   0.0\n",
              "street                   0.0\n",
              "city                     0.0\n",
              "state                    0.0\n",
              "zip                      0.0\n",
              "lat                      0.0\n",
              "long                     0.0\n",
              "city_pop                 0.0\n",
              "job                      0.0\n",
              "dob                      0.0\n",
              "trans_num                0.0\n",
              "unix_time                0.0\n",
              "merch_lat                0.0\n",
              "merch_long               0.0\n",
              "is_fraud                 0.0\n",
              "dtype: float64"
            ]
          },
          "metadata": {},
          "execution_count": 11
        }
      ]
    },
    {
      "cell_type": "code",
      "source": [
        "columns_to_delete=[\"trans_date_trans_time\",\"merchant\", \"category\",\"first\",\"last\",\"gender\",\"street\",\"city\",\"state\"]\n",
        "df.drop(columns_to_delete,inplace=True,axis=1)\n",
        "df"
      ],
      "metadata": {
        "colab": {
          "base_uri": "https://localhost:8080/",
          "height": 696
        },
        "id": "FRgcS_v-8hzP",
        "outputId": "d27e2632-707a-4aaf-d603-77a3b7e56095"
      },
      "execution_count": 14,
      "outputs": [
        {
          "output_type": "execute_result",
          "data": {
            "text/plain": [
              "        Unnamed: 0            cc_num     amt    zip      lat      long  \\\n",
              "0                0  2291163933867244    2.86  29209  33.9659  -80.9355   \n",
              "1                1  3573030041201292   29.84  84002  40.3207 -110.4360   \n",
              "2                2  3598215285024754   41.28  11710  40.6729  -73.5365   \n",
              "3                3  3591919803438423   60.05  32780  28.5697  -80.8191   \n",
              "4                4  3526826139003047    3.19  49632  44.2529  -85.0170   \n",
              "...            ...               ...     ...    ...      ...       ...   \n",
              "555714      555714    30560609640617   43.77  63453  40.4931  -91.8912   \n",
              "555715      555715  3556613125071656  111.84  77566  29.0393  -95.4401   \n",
              "555716      555716  6011724471098086   86.88  99323  46.1966 -118.9017   \n",
              "555717      555717     4079773899158    7.99  83643  44.6255 -116.4493   \n",
              "555718      555718  4170689372027579   38.13  73034  35.6665  -97.4798   \n",
              "\n",
              "        city_pop                     job         dob  \\\n",
              "0         333497     Mechanical engineer  1968-03-19   \n",
              "1            302  Sales professional, IT  1990-01-17   \n",
              "2          34496       Librarian, public  1970-10-21   \n",
              "3          54767            Set designer  1987-07-25   \n",
              "4           1126      Furniture designer  1955-07-06   \n",
              "...          ...                     ...         ...   \n",
              "555714       519            Town planner  1966-02-13   \n",
              "555715     28739          Futures trader  1999-12-27   \n",
              "555716      3684                Musician  1981-11-29   \n",
              "555717       129            Cartographer  1965-12-15   \n",
              "555718    116001             Media buyer  1993-05-10   \n",
              "\n",
              "                               trans_num   unix_time  merch_lat  merch_long  \\\n",
              "0       2da90c7d74bd46a0caf3777415b3ebd3  1371816865  33.986391  -81.200714   \n",
              "1       324cc204407e99f51b0d6ca0055005e7  1371816873  39.450498 -109.960431   \n",
              "2       c81755dbbbea9d5c77f094348a7579be  1371816893  40.495810  -74.196111   \n",
              "3       2159175b9efe66dc301f149d3d5abf8c  1371816915  28.812398  -80.883061   \n",
              "4       57ff021bd3f328f8738bb535c302a31b  1371816917  44.959148  -85.884734   \n",
              "...                                  ...         ...        ...         ...   \n",
              "555714  9b1f753c79894c9f4b71f04581835ada  1388534347  39.946837  -91.333331   \n",
              "555715  2090647dac2c89a1d86c514c427f5b91  1388534349  29.661049  -96.186633   \n",
              "555716  6c5b7c8add471975aa0fec023b2e8408  1388534355  46.658340 -119.715054   \n",
              "555717  14392d723bb7737606b2700ac791b7aa  1388534364  44.470525 -117.080888   \n",
              "555718  1765bb45b3aa3224b4cdcb6e7a96cee3  1388534374  36.210097  -97.036372   \n",
              "\n",
              "        is_fraud  \n",
              "0              0  \n",
              "1              0  \n",
              "2              0  \n",
              "3              0  \n",
              "4              0  \n",
              "...          ...  \n",
              "555714         0  \n",
              "555715         0  \n",
              "555716         0  \n",
              "555717         0  \n",
              "555718         0  \n",
              "\n",
              "[555719 rows x 14 columns]"
            ],
            "text/html": [
              "\n",
              "  <div id=\"df-e05d7834-75b9-4dbb-9159-a943df3ac116\">\n",
              "    <div class=\"colab-df-container\">\n",
              "      <div>\n",
              "<style scoped>\n",
              "    .dataframe tbody tr th:only-of-type {\n",
              "        vertical-align: middle;\n",
              "    }\n",
              "\n",
              "    .dataframe tbody tr th {\n",
              "        vertical-align: top;\n",
              "    }\n",
              "\n",
              "    .dataframe thead th {\n",
              "        text-align: right;\n",
              "    }\n",
              "</style>\n",
              "<table border=\"1\" class=\"dataframe\">\n",
              "  <thead>\n",
              "    <tr style=\"text-align: right;\">\n",
              "      <th></th>\n",
              "      <th>Unnamed: 0</th>\n",
              "      <th>cc_num</th>\n",
              "      <th>amt</th>\n",
              "      <th>zip</th>\n",
              "      <th>lat</th>\n",
              "      <th>long</th>\n",
              "      <th>city_pop</th>\n",
              "      <th>job</th>\n",
              "      <th>dob</th>\n",
              "      <th>trans_num</th>\n",
              "      <th>unix_time</th>\n",
              "      <th>merch_lat</th>\n",
              "      <th>merch_long</th>\n",
              "      <th>is_fraud</th>\n",
              "    </tr>\n",
              "  </thead>\n",
              "  <tbody>\n",
              "    <tr>\n",
              "      <th>0</th>\n",
              "      <td>0</td>\n",
              "      <td>2291163933867244</td>\n",
              "      <td>2.86</td>\n",
              "      <td>29209</td>\n",
              "      <td>33.9659</td>\n",
              "      <td>-80.9355</td>\n",
              "      <td>333497</td>\n",
              "      <td>Mechanical engineer</td>\n",
              "      <td>1968-03-19</td>\n",
              "      <td>2da90c7d74bd46a0caf3777415b3ebd3</td>\n",
              "      <td>1371816865</td>\n",
              "      <td>33.986391</td>\n",
              "      <td>-81.200714</td>\n",
              "      <td>0</td>\n",
              "    </tr>\n",
              "    <tr>\n",
              "      <th>1</th>\n",
              "      <td>1</td>\n",
              "      <td>3573030041201292</td>\n",
              "      <td>29.84</td>\n",
              "      <td>84002</td>\n",
              "      <td>40.3207</td>\n",
              "      <td>-110.4360</td>\n",
              "      <td>302</td>\n",
              "      <td>Sales professional, IT</td>\n",
              "      <td>1990-01-17</td>\n",
              "      <td>324cc204407e99f51b0d6ca0055005e7</td>\n",
              "      <td>1371816873</td>\n",
              "      <td>39.450498</td>\n",
              "      <td>-109.960431</td>\n",
              "      <td>0</td>\n",
              "    </tr>\n",
              "    <tr>\n",
              "      <th>2</th>\n",
              "      <td>2</td>\n",
              "      <td>3598215285024754</td>\n",
              "      <td>41.28</td>\n",
              "      <td>11710</td>\n",
              "      <td>40.6729</td>\n",
              "      <td>-73.5365</td>\n",
              "      <td>34496</td>\n",
              "      <td>Librarian, public</td>\n",
              "      <td>1970-10-21</td>\n",
              "      <td>c81755dbbbea9d5c77f094348a7579be</td>\n",
              "      <td>1371816893</td>\n",
              "      <td>40.495810</td>\n",
              "      <td>-74.196111</td>\n",
              "      <td>0</td>\n",
              "    </tr>\n",
              "    <tr>\n",
              "      <th>3</th>\n",
              "      <td>3</td>\n",
              "      <td>3591919803438423</td>\n",
              "      <td>60.05</td>\n",
              "      <td>32780</td>\n",
              "      <td>28.5697</td>\n",
              "      <td>-80.8191</td>\n",
              "      <td>54767</td>\n",
              "      <td>Set designer</td>\n",
              "      <td>1987-07-25</td>\n",
              "      <td>2159175b9efe66dc301f149d3d5abf8c</td>\n",
              "      <td>1371816915</td>\n",
              "      <td>28.812398</td>\n",
              "      <td>-80.883061</td>\n",
              "      <td>0</td>\n",
              "    </tr>\n",
              "    <tr>\n",
              "      <th>4</th>\n",
              "      <td>4</td>\n",
              "      <td>3526826139003047</td>\n",
              "      <td>3.19</td>\n",
              "      <td>49632</td>\n",
              "      <td>44.2529</td>\n",
              "      <td>-85.0170</td>\n",
              "      <td>1126</td>\n",
              "      <td>Furniture designer</td>\n",
              "      <td>1955-07-06</td>\n",
              "      <td>57ff021bd3f328f8738bb535c302a31b</td>\n",
              "      <td>1371816917</td>\n",
              "      <td>44.959148</td>\n",
              "      <td>-85.884734</td>\n",
              "      <td>0</td>\n",
              "    </tr>\n",
              "    <tr>\n",
              "      <th>...</th>\n",
              "      <td>...</td>\n",
              "      <td>...</td>\n",
              "      <td>...</td>\n",
              "      <td>...</td>\n",
              "      <td>...</td>\n",
              "      <td>...</td>\n",
              "      <td>...</td>\n",
              "      <td>...</td>\n",
              "      <td>...</td>\n",
              "      <td>...</td>\n",
              "      <td>...</td>\n",
              "      <td>...</td>\n",
              "      <td>...</td>\n",
              "      <td>...</td>\n",
              "    </tr>\n",
              "    <tr>\n",
              "      <th>555714</th>\n",
              "      <td>555714</td>\n",
              "      <td>30560609640617</td>\n",
              "      <td>43.77</td>\n",
              "      <td>63453</td>\n",
              "      <td>40.4931</td>\n",
              "      <td>-91.8912</td>\n",
              "      <td>519</td>\n",
              "      <td>Town planner</td>\n",
              "      <td>1966-02-13</td>\n",
              "      <td>9b1f753c79894c9f4b71f04581835ada</td>\n",
              "      <td>1388534347</td>\n",
              "      <td>39.946837</td>\n",
              "      <td>-91.333331</td>\n",
              "      <td>0</td>\n",
              "    </tr>\n",
              "    <tr>\n",
              "      <th>555715</th>\n",
              "      <td>555715</td>\n",
              "      <td>3556613125071656</td>\n",
              "      <td>111.84</td>\n",
              "      <td>77566</td>\n",
              "      <td>29.0393</td>\n",
              "      <td>-95.4401</td>\n",
              "      <td>28739</td>\n",
              "      <td>Futures trader</td>\n",
              "      <td>1999-12-27</td>\n",
              "      <td>2090647dac2c89a1d86c514c427f5b91</td>\n",
              "      <td>1388534349</td>\n",
              "      <td>29.661049</td>\n",
              "      <td>-96.186633</td>\n",
              "      <td>0</td>\n",
              "    </tr>\n",
              "    <tr>\n",
              "      <th>555716</th>\n",
              "      <td>555716</td>\n",
              "      <td>6011724471098086</td>\n",
              "      <td>86.88</td>\n",
              "      <td>99323</td>\n",
              "      <td>46.1966</td>\n",
              "      <td>-118.9017</td>\n",
              "      <td>3684</td>\n",
              "      <td>Musician</td>\n",
              "      <td>1981-11-29</td>\n",
              "      <td>6c5b7c8add471975aa0fec023b2e8408</td>\n",
              "      <td>1388534355</td>\n",
              "      <td>46.658340</td>\n",
              "      <td>-119.715054</td>\n",
              "      <td>0</td>\n",
              "    </tr>\n",
              "    <tr>\n",
              "      <th>555717</th>\n",
              "      <td>555717</td>\n",
              "      <td>4079773899158</td>\n",
              "      <td>7.99</td>\n",
              "      <td>83643</td>\n",
              "      <td>44.6255</td>\n",
              "      <td>-116.4493</td>\n",
              "      <td>129</td>\n",
              "      <td>Cartographer</td>\n",
              "      <td>1965-12-15</td>\n",
              "      <td>14392d723bb7737606b2700ac791b7aa</td>\n",
              "      <td>1388534364</td>\n",
              "      <td>44.470525</td>\n",
              "      <td>-117.080888</td>\n",
              "      <td>0</td>\n",
              "    </tr>\n",
              "    <tr>\n",
              "      <th>555718</th>\n",
              "      <td>555718</td>\n",
              "      <td>4170689372027579</td>\n",
              "      <td>38.13</td>\n",
              "      <td>73034</td>\n",
              "      <td>35.6665</td>\n",
              "      <td>-97.4798</td>\n",
              "      <td>116001</td>\n",
              "      <td>Media buyer</td>\n",
              "      <td>1993-05-10</td>\n",
              "      <td>1765bb45b3aa3224b4cdcb6e7a96cee3</td>\n",
              "      <td>1388534374</td>\n",
              "      <td>36.210097</td>\n",
              "      <td>-97.036372</td>\n",
              "      <td>0</td>\n",
              "    </tr>\n",
              "  </tbody>\n",
              "</table>\n",
              "<p>555719 rows × 14 columns</p>\n",
              "</div>\n",
              "      <button class=\"colab-df-convert\" onclick=\"convertToInteractive('df-e05d7834-75b9-4dbb-9159-a943df3ac116')\"\n",
              "              title=\"Convert this dataframe to an interactive table.\"\n",
              "              style=\"display:none;\">\n",
              "        \n",
              "  <svg xmlns=\"http://www.w3.org/2000/svg\" height=\"24px\"viewBox=\"0 0 24 24\"\n",
              "       width=\"24px\">\n",
              "    <path d=\"M0 0h24v24H0V0z\" fill=\"none\"/>\n",
              "    <path d=\"M18.56 5.44l.94 2.06.94-2.06 2.06-.94-2.06-.94-.94-2.06-.94 2.06-2.06.94zm-11 1L8.5 8.5l.94-2.06 2.06-.94-2.06-.94L8.5 2.5l-.94 2.06-2.06.94zm10 10l.94 2.06.94-2.06 2.06-.94-2.06-.94-.94-2.06-.94 2.06-2.06.94z\"/><path d=\"M17.41 7.96l-1.37-1.37c-.4-.4-.92-.59-1.43-.59-.52 0-1.04.2-1.43.59L10.3 9.45l-7.72 7.72c-.78.78-.78 2.05 0 2.83L4 21.41c.39.39.9.59 1.41.59.51 0 1.02-.2 1.41-.59l7.78-7.78 2.81-2.81c.8-.78.8-2.07 0-2.86zM5.41 20L4 18.59l7.72-7.72 1.47 1.35L5.41 20z\"/>\n",
              "  </svg>\n",
              "      </button>\n",
              "      \n",
              "  <style>\n",
              "    .colab-df-container {\n",
              "      display:flex;\n",
              "      flex-wrap:wrap;\n",
              "      gap: 12px;\n",
              "    }\n",
              "\n",
              "    .colab-df-convert {\n",
              "      background-color: #E8F0FE;\n",
              "      border: none;\n",
              "      border-radius: 50%;\n",
              "      cursor: pointer;\n",
              "      display: none;\n",
              "      fill: #1967D2;\n",
              "      height: 32px;\n",
              "      padding: 0 0 0 0;\n",
              "      width: 32px;\n",
              "    }\n",
              "\n",
              "    .colab-df-convert:hover {\n",
              "      background-color: #E2EBFA;\n",
              "      box-shadow: 0px 1px 2px rgba(60, 64, 67, 0.3), 0px 1px 3px 1px rgba(60, 64, 67, 0.15);\n",
              "      fill: #174EA6;\n",
              "    }\n",
              "\n",
              "    [theme=dark] .colab-df-convert {\n",
              "      background-color: #3B4455;\n",
              "      fill: #D2E3FC;\n",
              "    }\n",
              "\n",
              "    [theme=dark] .colab-df-convert:hover {\n",
              "      background-color: #434B5C;\n",
              "      box-shadow: 0px 1px 3px 1px rgba(0, 0, 0, 0.15);\n",
              "      filter: drop-shadow(0px 1px 2px rgba(0, 0, 0, 0.3));\n",
              "      fill: #FFFFFF;\n",
              "    }\n",
              "  </style>\n",
              "\n",
              "      <script>\n",
              "        const buttonEl =\n",
              "          document.querySelector('#df-e05d7834-75b9-4dbb-9159-a943df3ac116 button.colab-df-convert');\n",
              "        buttonEl.style.display =\n",
              "          google.colab.kernel.accessAllowed ? 'block' : 'none';\n",
              "\n",
              "        async function convertToInteractive(key) {\n",
              "          const element = document.querySelector('#df-e05d7834-75b9-4dbb-9159-a943df3ac116');\n",
              "          const dataTable =\n",
              "            await google.colab.kernel.invokeFunction('convertToInteractive',\n",
              "                                                     [key], {});\n",
              "          if (!dataTable) return;\n",
              "\n",
              "          const docLinkHtml = 'Like what you see? Visit the ' +\n",
              "            '<a target=\"_blank\" href=https://colab.research.google.com/notebooks/data_table.ipynb>data table notebook</a>'\n",
              "            + ' to learn more about interactive tables.';\n",
              "          element.innerHTML = '';\n",
              "          dataTable['output_type'] = 'display_data';\n",
              "          await google.colab.output.renderOutput(dataTable, element);\n",
              "          const docLink = document.createElement('div');\n",
              "          docLink.innerHTML = docLinkHtml;\n",
              "          element.appendChild(docLink);\n",
              "        }\n",
              "      </script>\n",
              "    </div>\n",
              "  </div>\n",
              "  "
            ]
          },
          "metadata": {},
          "execution_count": 14
        }
      ]
    },
    {
      "cell_type": "code",
      "source": [
        "df.head().T"
      ],
      "metadata": {
        "colab": {
          "base_uri": "https://localhost:8080/",
          "height": 569
        },
        "id": "0c1_FVz88qvx",
        "outputId": "516f60fb-37db-462f-9d90-efe3355ec6f1"
      },
      "execution_count": 17,
      "outputs": [
        {
          "output_type": "execute_result",
          "data": {
            "text/plain": [
              "                                           0  \\\n",
              "Unnamed: 0                                 0   \n",
              "cc_num                      2291163933867244   \n",
              "amt                                     2.86   \n",
              "zip                                    29209   \n",
              "lat                                  33.9659   \n",
              "long                                -80.9355   \n",
              "city_pop                              333497   \n",
              "job                      Mechanical engineer   \n",
              "dob                               1968-03-19   \n",
              "trans_num   2da90c7d74bd46a0caf3777415b3ebd3   \n",
              "unix_time                         1371816865   \n",
              "merch_lat                          33.986391   \n",
              "merch_long                        -81.200714   \n",
              "is_fraud                                   0   \n",
              "\n",
              "                                           1  \\\n",
              "Unnamed: 0                                 1   \n",
              "cc_num                      3573030041201292   \n",
              "amt                                    29.84   \n",
              "zip                                    84002   \n",
              "lat                                  40.3207   \n",
              "long                                -110.436   \n",
              "city_pop                                 302   \n",
              "job                   Sales professional, IT   \n",
              "dob                               1990-01-17   \n",
              "trans_num   324cc204407e99f51b0d6ca0055005e7   \n",
              "unix_time                         1371816873   \n",
              "merch_lat                          39.450498   \n",
              "merch_long                       -109.960431   \n",
              "is_fraud                                   0   \n",
              "\n",
              "                                           2  \\\n",
              "Unnamed: 0                                 2   \n",
              "cc_num                      3598215285024754   \n",
              "amt                                    41.28   \n",
              "zip                                    11710   \n",
              "lat                                  40.6729   \n",
              "long                                -73.5365   \n",
              "city_pop                               34496   \n",
              "job                        Librarian, public   \n",
              "dob                               1970-10-21   \n",
              "trans_num   c81755dbbbea9d5c77f094348a7579be   \n",
              "unix_time                         1371816893   \n",
              "merch_lat                           40.49581   \n",
              "merch_long                        -74.196111   \n",
              "is_fraud                                   0   \n",
              "\n",
              "                                           3                                 4  \n",
              "Unnamed: 0                                 3                                 4  \n",
              "cc_num                      3591919803438423                  3526826139003047  \n",
              "amt                                    60.05                              3.19  \n",
              "zip                                    32780                             49632  \n",
              "lat                                  28.5697                           44.2529  \n",
              "long                                -80.8191                           -85.017  \n",
              "city_pop                               54767                              1126  \n",
              "job                             Set designer                Furniture designer  \n",
              "dob                               1987-07-25                        1955-07-06  \n",
              "trans_num   2159175b9efe66dc301f149d3d5abf8c  57ff021bd3f328f8738bb535c302a31b  \n",
              "unix_time                         1371816915                        1371816917  \n",
              "merch_lat                          28.812398                         44.959148  \n",
              "merch_long                        -80.883061                        -85.884734  \n",
              "is_fraud                                   0                                 0  "
            ],
            "text/html": [
              "\n",
              "  <div id=\"df-f386a668-44b2-4cb1-a2bf-1826382ef001\">\n",
              "    <div class=\"colab-df-container\">\n",
              "      <div>\n",
              "<style scoped>\n",
              "    .dataframe tbody tr th:only-of-type {\n",
              "        vertical-align: middle;\n",
              "    }\n",
              "\n",
              "    .dataframe tbody tr th {\n",
              "        vertical-align: top;\n",
              "    }\n",
              "\n",
              "    .dataframe thead th {\n",
              "        text-align: right;\n",
              "    }\n",
              "</style>\n",
              "<table border=\"1\" class=\"dataframe\">\n",
              "  <thead>\n",
              "    <tr style=\"text-align: right;\">\n",
              "      <th></th>\n",
              "      <th>0</th>\n",
              "      <th>1</th>\n",
              "      <th>2</th>\n",
              "      <th>3</th>\n",
              "      <th>4</th>\n",
              "    </tr>\n",
              "  </thead>\n",
              "  <tbody>\n",
              "    <tr>\n",
              "      <th>Unnamed: 0</th>\n",
              "      <td>0</td>\n",
              "      <td>1</td>\n",
              "      <td>2</td>\n",
              "      <td>3</td>\n",
              "      <td>4</td>\n",
              "    </tr>\n",
              "    <tr>\n",
              "      <th>cc_num</th>\n",
              "      <td>2291163933867244</td>\n",
              "      <td>3573030041201292</td>\n",
              "      <td>3598215285024754</td>\n",
              "      <td>3591919803438423</td>\n",
              "      <td>3526826139003047</td>\n",
              "    </tr>\n",
              "    <tr>\n",
              "      <th>amt</th>\n",
              "      <td>2.86</td>\n",
              "      <td>29.84</td>\n",
              "      <td>41.28</td>\n",
              "      <td>60.05</td>\n",
              "      <td>3.19</td>\n",
              "    </tr>\n",
              "    <tr>\n",
              "      <th>zip</th>\n",
              "      <td>29209</td>\n",
              "      <td>84002</td>\n",
              "      <td>11710</td>\n",
              "      <td>32780</td>\n",
              "      <td>49632</td>\n",
              "    </tr>\n",
              "    <tr>\n",
              "      <th>lat</th>\n",
              "      <td>33.9659</td>\n",
              "      <td>40.3207</td>\n",
              "      <td>40.6729</td>\n",
              "      <td>28.5697</td>\n",
              "      <td>44.2529</td>\n",
              "    </tr>\n",
              "    <tr>\n",
              "      <th>long</th>\n",
              "      <td>-80.9355</td>\n",
              "      <td>-110.436</td>\n",
              "      <td>-73.5365</td>\n",
              "      <td>-80.8191</td>\n",
              "      <td>-85.017</td>\n",
              "    </tr>\n",
              "    <tr>\n",
              "      <th>city_pop</th>\n",
              "      <td>333497</td>\n",
              "      <td>302</td>\n",
              "      <td>34496</td>\n",
              "      <td>54767</td>\n",
              "      <td>1126</td>\n",
              "    </tr>\n",
              "    <tr>\n",
              "      <th>job</th>\n",
              "      <td>Mechanical engineer</td>\n",
              "      <td>Sales professional, IT</td>\n",
              "      <td>Librarian, public</td>\n",
              "      <td>Set designer</td>\n",
              "      <td>Furniture designer</td>\n",
              "    </tr>\n",
              "    <tr>\n",
              "      <th>dob</th>\n",
              "      <td>1968-03-19</td>\n",
              "      <td>1990-01-17</td>\n",
              "      <td>1970-10-21</td>\n",
              "      <td>1987-07-25</td>\n",
              "      <td>1955-07-06</td>\n",
              "    </tr>\n",
              "    <tr>\n",
              "      <th>trans_num</th>\n",
              "      <td>2da90c7d74bd46a0caf3777415b3ebd3</td>\n",
              "      <td>324cc204407e99f51b0d6ca0055005e7</td>\n",
              "      <td>c81755dbbbea9d5c77f094348a7579be</td>\n",
              "      <td>2159175b9efe66dc301f149d3d5abf8c</td>\n",
              "      <td>57ff021bd3f328f8738bb535c302a31b</td>\n",
              "    </tr>\n",
              "    <tr>\n",
              "      <th>unix_time</th>\n",
              "      <td>1371816865</td>\n",
              "      <td>1371816873</td>\n",
              "      <td>1371816893</td>\n",
              "      <td>1371816915</td>\n",
              "      <td>1371816917</td>\n",
              "    </tr>\n",
              "    <tr>\n",
              "      <th>merch_lat</th>\n",
              "      <td>33.986391</td>\n",
              "      <td>39.450498</td>\n",
              "      <td>40.49581</td>\n",
              "      <td>28.812398</td>\n",
              "      <td>44.959148</td>\n",
              "    </tr>\n",
              "    <tr>\n",
              "      <th>merch_long</th>\n",
              "      <td>-81.200714</td>\n",
              "      <td>-109.960431</td>\n",
              "      <td>-74.196111</td>\n",
              "      <td>-80.883061</td>\n",
              "      <td>-85.884734</td>\n",
              "    </tr>\n",
              "    <tr>\n",
              "      <th>is_fraud</th>\n",
              "      <td>0</td>\n",
              "      <td>0</td>\n",
              "      <td>0</td>\n",
              "      <td>0</td>\n",
              "      <td>0</td>\n",
              "    </tr>\n",
              "  </tbody>\n",
              "</table>\n",
              "</div>\n",
              "      <button class=\"colab-df-convert\" onclick=\"convertToInteractive('df-f386a668-44b2-4cb1-a2bf-1826382ef001')\"\n",
              "              title=\"Convert this dataframe to an interactive table.\"\n",
              "              style=\"display:none;\">\n",
              "        \n",
              "  <svg xmlns=\"http://www.w3.org/2000/svg\" height=\"24px\"viewBox=\"0 0 24 24\"\n",
              "       width=\"24px\">\n",
              "    <path d=\"M0 0h24v24H0V0z\" fill=\"none\"/>\n",
              "    <path d=\"M18.56 5.44l.94 2.06.94-2.06 2.06-.94-2.06-.94-.94-2.06-.94 2.06-2.06.94zm-11 1L8.5 8.5l.94-2.06 2.06-.94-2.06-.94L8.5 2.5l-.94 2.06-2.06.94zm10 10l.94 2.06.94-2.06 2.06-.94-2.06-.94-.94-2.06-.94 2.06-2.06.94z\"/><path d=\"M17.41 7.96l-1.37-1.37c-.4-.4-.92-.59-1.43-.59-.52 0-1.04.2-1.43.59L10.3 9.45l-7.72 7.72c-.78.78-.78 2.05 0 2.83L4 21.41c.39.39.9.59 1.41.59.51 0 1.02-.2 1.41-.59l7.78-7.78 2.81-2.81c.8-.78.8-2.07 0-2.86zM5.41 20L4 18.59l7.72-7.72 1.47 1.35L5.41 20z\"/>\n",
              "  </svg>\n",
              "      </button>\n",
              "      \n",
              "  <style>\n",
              "    .colab-df-container {\n",
              "      display:flex;\n",
              "      flex-wrap:wrap;\n",
              "      gap: 12px;\n",
              "    }\n",
              "\n",
              "    .colab-df-convert {\n",
              "      background-color: #E8F0FE;\n",
              "      border: none;\n",
              "      border-radius: 50%;\n",
              "      cursor: pointer;\n",
              "      display: none;\n",
              "      fill: #1967D2;\n",
              "      height: 32px;\n",
              "      padding: 0 0 0 0;\n",
              "      width: 32px;\n",
              "    }\n",
              "\n",
              "    .colab-df-convert:hover {\n",
              "      background-color: #E2EBFA;\n",
              "      box-shadow: 0px 1px 2px rgba(60, 64, 67, 0.3), 0px 1px 3px 1px rgba(60, 64, 67, 0.15);\n",
              "      fill: #174EA6;\n",
              "    }\n",
              "\n",
              "    [theme=dark] .colab-df-convert {\n",
              "      background-color: #3B4455;\n",
              "      fill: #D2E3FC;\n",
              "    }\n",
              "\n",
              "    [theme=dark] .colab-df-convert:hover {\n",
              "      background-color: #434B5C;\n",
              "      box-shadow: 0px 1px 3px 1px rgba(0, 0, 0, 0.15);\n",
              "      filter: drop-shadow(0px 1px 2px rgba(0, 0, 0, 0.3));\n",
              "      fill: #FFFFFF;\n",
              "    }\n",
              "  </style>\n",
              "\n",
              "      <script>\n",
              "        const buttonEl =\n",
              "          document.querySelector('#df-f386a668-44b2-4cb1-a2bf-1826382ef001 button.colab-df-convert');\n",
              "        buttonEl.style.display =\n",
              "          google.colab.kernel.accessAllowed ? 'block' : 'none';\n",
              "\n",
              "        async function convertToInteractive(key) {\n",
              "          const element = document.querySelector('#df-f386a668-44b2-4cb1-a2bf-1826382ef001');\n",
              "          const dataTable =\n",
              "            await google.colab.kernel.invokeFunction('convertToInteractive',\n",
              "                                                     [key], {});\n",
              "          if (!dataTable) return;\n",
              "\n",
              "          const docLinkHtml = 'Like what you see? Visit the ' +\n",
              "            '<a target=\"_blank\" href=https://colab.research.google.com/notebooks/data_table.ipynb>data table notebook</a>'\n",
              "            + ' to learn more about interactive tables.';\n",
              "          element.innerHTML = '';\n",
              "          dataTable['output_type'] = 'display_data';\n",
              "          await google.colab.output.renderOutput(dataTable, element);\n",
              "          const docLink = document.createElement('div');\n",
              "          docLink.innerHTML = docLinkHtml;\n",
              "          element.appendChild(docLink);\n",
              "        }\n",
              "      </script>\n",
              "    </div>\n",
              "  </div>\n",
              "  "
            ]
          },
          "metadata": {},
          "execution_count": 17
        }
      ]
    },
    {
      "cell_type": "code",
      "source": [
        "df.info()"
      ],
      "metadata": {
        "colab": {
          "base_uri": "https://localhost:8080/"
        },
        "id": "LXtag9FJ8-VG",
        "outputId": "a579fbed-d5c4-4054-e7c8-e3188ed8564d"
      },
      "execution_count": 19,
      "outputs": [
        {
          "output_type": "stream",
          "name": "stdout",
          "text": [
            "<class 'pandas.core.frame.DataFrame'>\n",
            "RangeIndex: 555719 entries, 0 to 555718\n",
            "Data columns (total 14 columns):\n",
            " #   Column      Non-Null Count   Dtype   \n",
            "---  ------      --------------   -----   \n",
            " 0   Unnamed: 0  555719 non-null  int64   \n",
            " 1   cc_num      555719 non-null  int64   \n",
            " 2   amt         555719 non-null  float64 \n",
            " 3   zip         555719 non-null  int64   \n",
            " 4   lat         555719 non-null  float64 \n",
            " 5   long        555719 non-null  float64 \n",
            " 6   city_pop    555719 non-null  int64   \n",
            " 7   job         555719 non-null  category\n",
            " 8   dob         555719 non-null  category\n",
            " 9   trans_num   555719 non-null  category\n",
            " 10  unix_time   555719 non-null  int64   \n",
            " 11  merch_lat   555719 non-null  float64 \n",
            " 12  merch_long  555719 non-null  float64 \n",
            " 13  is_fraud    555719 non-null  int64   \n",
            "dtypes: category(3), float64(5), int64(6)\n",
            "memory usage: 71.3 MB\n"
          ]
        }
      ]
    },
    {
      "cell_type": "code",
      "source": [
        "columns_to_delete=[\"amt\",\"lat\", \"long\",\"merch_lat\",\"merch_long\"]\n",
        "df.drop(columns_to_delete,inplace=True,axis=1)\n",
        "df"
      ],
      "metadata": {
        "colab": {
          "base_uri": "https://localhost:8080/",
          "height": 696
        },
        "id": "j0MXdls29ymq",
        "outputId": "5de7745a-0dd5-41cd-d8a1-b0523887b738"
      },
      "execution_count": 21,
      "outputs": [
        {
          "output_type": "execute_result",
          "data": {
            "text/plain": [
              "        Unnamed: 0            cc_num    zip  city_pop                     job  \\\n",
              "0                0  2291163933867244  29209    333497     Mechanical engineer   \n",
              "1                1  3573030041201292  84002       302  Sales professional, IT   \n",
              "2                2  3598215285024754  11710     34496       Librarian, public   \n",
              "3                3  3591919803438423  32780     54767            Set designer   \n",
              "4                4  3526826139003047  49632      1126      Furniture designer   \n",
              "...            ...               ...    ...       ...                     ...   \n",
              "555714      555714    30560609640617  63453       519            Town planner   \n",
              "555715      555715  3556613125071656  77566     28739          Futures trader   \n",
              "555716      555716  6011724471098086  99323      3684                Musician   \n",
              "555717      555717     4079773899158  83643       129            Cartographer   \n",
              "555718      555718  4170689372027579  73034    116001             Media buyer   \n",
              "\n",
              "               dob                         trans_num   unix_time  is_fraud  \n",
              "0       1968-03-19  2da90c7d74bd46a0caf3777415b3ebd3  1371816865         0  \n",
              "1       1990-01-17  324cc204407e99f51b0d6ca0055005e7  1371816873         0  \n",
              "2       1970-10-21  c81755dbbbea9d5c77f094348a7579be  1371816893         0  \n",
              "3       1987-07-25  2159175b9efe66dc301f149d3d5abf8c  1371816915         0  \n",
              "4       1955-07-06  57ff021bd3f328f8738bb535c302a31b  1371816917         0  \n",
              "...            ...                               ...         ...       ...  \n",
              "555714  1966-02-13  9b1f753c79894c9f4b71f04581835ada  1388534347         0  \n",
              "555715  1999-12-27  2090647dac2c89a1d86c514c427f5b91  1388534349         0  \n",
              "555716  1981-11-29  6c5b7c8add471975aa0fec023b2e8408  1388534355         0  \n",
              "555717  1965-12-15  14392d723bb7737606b2700ac791b7aa  1388534364         0  \n",
              "555718  1993-05-10  1765bb45b3aa3224b4cdcb6e7a96cee3  1388534374         0  \n",
              "\n",
              "[555719 rows x 9 columns]"
            ],
            "text/html": [
              "\n",
              "  <div id=\"df-9f85422f-d261-4385-90d5-4367dd147872\">\n",
              "    <div class=\"colab-df-container\">\n",
              "      <div>\n",
              "<style scoped>\n",
              "    .dataframe tbody tr th:only-of-type {\n",
              "        vertical-align: middle;\n",
              "    }\n",
              "\n",
              "    .dataframe tbody tr th {\n",
              "        vertical-align: top;\n",
              "    }\n",
              "\n",
              "    .dataframe thead th {\n",
              "        text-align: right;\n",
              "    }\n",
              "</style>\n",
              "<table border=\"1\" class=\"dataframe\">\n",
              "  <thead>\n",
              "    <tr style=\"text-align: right;\">\n",
              "      <th></th>\n",
              "      <th>Unnamed: 0</th>\n",
              "      <th>cc_num</th>\n",
              "      <th>zip</th>\n",
              "      <th>city_pop</th>\n",
              "      <th>job</th>\n",
              "      <th>dob</th>\n",
              "      <th>trans_num</th>\n",
              "      <th>unix_time</th>\n",
              "      <th>is_fraud</th>\n",
              "    </tr>\n",
              "  </thead>\n",
              "  <tbody>\n",
              "    <tr>\n",
              "      <th>0</th>\n",
              "      <td>0</td>\n",
              "      <td>2291163933867244</td>\n",
              "      <td>29209</td>\n",
              "      <td>333497</td>\n",
              "      <td>Mechanical engineer</td>\n",
              "      <td>1968-03-19</td>\n",
              "      <td>2da90c7d74bd46a0caf3777415b3ebd3</td>\n",
              "      <td>1371816865</td>\n",
              "      <td>0</td>\n",
              "    </tr>\n",
              "    <tr>\n",
              "      <th>1</th>\n",
              "      <td>1</td>\n",
              "      <td>3573030041201292</td>\n",
              "      <td>84002</td>\n",
              "      <td>302</td>\n",
              "      <td>Sales professional, IT</td>\n",
              "      <td>1990-01-17</td>\n",
              "      <td>324cc204407e99f51b0d6ca0055005e7</td>\n",
              "      <td>1371816873</td>\n",
              "      <td>0</td>\n",
              "    </tr>\n",
              "    <tr>\n",
              "      <th>2</th>\n",
              "      <td>2</td>\n",
              "      <td>3598215285024754</td>\n",
              "      <td>11710</td>\n",
              "      <td>34496</td>\n",
              "      <td>Librarian, public</td>\n",
              "      <td>1970-10-21</td>\n",
              "      <td>c81755dbbbea9d5c77f094348a7579be</td>\n",
              "      <td>1371816893</td>\n",
              "      <td>0</td>\n",
              "    </tr>\n",
              "    <tr>\n",
              "      <th>3</th>\n",
              "      <td>3</td>\n",
              "      <td>3591919803438423</td>\n",
              "      <td>32780</td>\n",
              "      <td>54767</td>\n",
              "      <td>Set designer</td>\n",
              "      <td>1987-07-25</td>\n",
              "      <td>2159175b9efe66dc301f149d3d5abf8c</td>\n",
              "      <td>1371816915</td>\n",
              "      <td>0</td>\n",
              "    </tr>\n",
              "    <tr>\n",
              "      <th>4</th>\n",
              "      <td>4</td>\n",
              "      <td>3526826139003047</td>\n",
              "      <td>49632</td>\n",
              "      <td>1126</td>\n",
              "      <td>Furniture designer</td>\n",
              "      <td>1955-07-06</td>\n",
              "      <td>57ff021bd3f328f8738bb535c302a31b</td>\n",
              "      <td>1371816917</td>\n",
              "      <td>0</td>\n",
              "    </tr>\n",
              "    <tr>\n",
              "      <th>...</th>\n",
              "      <td>...</td>\n",
              "      <td>...</td>\n",
              "      <td>...</td>\n",
              "      <td>...</td>\n",
              "      <td>...</td>\n",
              "      <td>...</td>\n",
              "      <td>...</td>\n",
              "      <td>...</td>\n",
              "      <td>...</td>\n",
              "    </tr>\n",
              "    <tr>\n",
              "      <th>555714</th>\n",
              "      <td>555714</td>\n",
              "      <td>30560609640617</td>\n",
              "      <td>63453</td>\n",
              "      <td>519</td>\n",
              "      <td>Town planner</td>\n",
              "      <td>1966-02-13</td>\n",
              "      <td>9b1f753c79894c9f4b71f04581835ada</td>\n",
              "      <td>1388534347</td>\n",
              "      <td>0</td>\n",
              "    </tr>\n",
              "    <tr>\n",
              "      <th>555715</th>\n",
              "      <td>555715</td>\n",
              "      <td>3556613125071656</td>\n",
              "      <td>77566</td>\n",
              "      <td>28739</td>\n",
              "      <td>Futures trader</td>\n",
              "      <td>1999-12-27</td>\n",
              "      <td>2090647dac2c89a1d86c514c427f5b91</td>\n",
              "      <td>1388534349</td>\n",
              "      <td>0</td>\n",
              "    </tr>\n",
              "    <tr>\n",
              "      <th>555716</th>\n",
              "      <td>555716</td>\n",
              "      <td>6011724471098086</td>\n",
              "      <td>99323</td>\n",
              "      <td>3684</td>\n",
              "      <td>Musician</td>\n",
              "      <td>1981-11-29</td>\n",
              "      <td>6c5b7c8add471975aa0fec023b2e8408</td>\n",
              "      <td>1388534355</td>\n",
              "      <td>0</td>\n",
              "    </tr>\n",
              "    <tr>\n",
              "      <th>555717</th>\n",
              "      <td>555717</td>\n",
              "      <td>4079773899158</td>\n",
              "      <td>83643</td>\n",
              "      <td>129</td>\n",
              "      <td>Cartographer</td>\n",
              "      <td>1965-12-15</td>\n",
              "      <td>14392d723bb7737606b2700ac791b7aa</td>\n",
              "      <td>1388534364</td>\n",
              "      <td>0</td>\n",
              "    </tr>\n",
              "    <tr>\n",
              "      <th>555718</th>\n",
              "      <td>555718</td>\n",
              "      <td>4170689372027579</td>\n",
              "      <td>73034</td>\n",
              "      <td>116001</td>\n",
              "      <td>Media buyer</td>\n",
              "      <td>1993-05-10</td>\n",
              "      <td>1765bb45b3aa3224b4cdcb6e7a96cee3</td>\n",
              "      <td>1388534374</td>\n",
              "      <td>0</td>\n",
              "    </tr>\n",
              "  </tbody>\n",
              "</table>\n",
              "<p>555719 rows × 9 columns</p>\n",
              "</div>\n",
              "      <button class=\"colab-df-convert\" onclick=\"convertToInteractive('df-9f85422f-d261-4385-90d5-4367dd147872')\"\n",
              "              title=\"Convert this dataframe to an interactive table.\"\n",
              "              style=\"display:none;\">\n",
              "        \n",
              "  <svg xmlns=\"http://www.w3.org/2000/svg\" height=\"24px\"viewBox=\"0 0 24 24\"\n",
              "       width=\"24px\">\n",
              "    <path d=\"M0 0h24v24H0V0z\" fill=\"none\"/>\n",
              "    <path d=\"M18.56 5.44l.94 2.06.94-2.06 2.06-.94-2.06-.94-.94-2.06-.94 2.06-2.06.94zm-11 1L8.5 8.5l.94-2.06 2.06-.94-2.06-.94L8.5 2.5l-.94 2.06-2.06.94zm10 10l.94 2.06.94-2.06 2.06-.94-2.06-.94-.94-2.06-.94 2.06-2.06.94z\"/><path d=\"M17.41 7.96l-1.37-1.37c-.4-.4-.92-.59-1.43-.59-.52 0-1.04.2-1.43.59L10.3 9.45l-7.72 7.72c-.78.78-.78 2.05 0 2.83L4 21.41c.39.39.9.59 1.41.59.51 0 1.02-.2 1.41-.59l7.78-7.78 2.81-2.81c.8-.78.8-2.07 0-2.86zM5.41 20L4 18.59l7.72-7.72 1.47 1.35L5.41 20z\"/>\n",
              "  </svg>\n",
              "      </button>\n",
              "      \n",
              "  <style>\n",
              "    .colab-df-container {\n",
              "      display:flex;\n",
              "      flex-wrap:wrap;\n",
              "      gap: 12px;\n",
              "    }\n",
              "\n",
              "    .colab-df-convert {\n",
              "      background-color: #E8F0FE;\n",
              "      border: none;\n",
              "      border-radius: 50%;\n",
              "      cursor: pointer;\n",
              "      display: none;\n",
              "      fill: #1967D2;\n",
              "      height: 32px;\n",
              "      padding: 0 0 0 0;\n",
              "      width: 32px;\n",
              "    }\n",
              "\n",
              "    .colab-df-convert:hover {\n",
              "      background-color: #E2EBFA;\n",
              "      box-shadow: 0px 1px 2px rgba(60, 64, 67, 0.3), 0px 1px 3px 1px rgba(60, 64, 67, 0.15);\n",
              "      fill: #174EA6;\n",
              "    }\n",
              "\n",
              "    [theme=dark] .colab-df-convert {\n",
              "      background-color: #3B4455;\n",
              "      fill: #D2E3FC;\n",
              "    }\n",
              "\n",
              "    [theme=dark] .colab-df-convert:hover {\n",
              "      background-color: #434B5C;\n",
              "      box-shadow: 0px 1px 3px 1px rgba(0, 0, 0, 0.15);\n",
              "      filter: drop-shadow(0px 1px 2px rgba(0, 0, 0, 0.3));\n",
              "      fill: #FFFFFF;\n",
              "    }\n",
              "  </style>\n",
              "\n",
              "      <script>\n",
              "        const buttonEl =\n",
              "          document.querySelector('#df-9f85422f-d261-4385-90d5-4367dd147872 button.colab-df-convert');\n",
              "        buttonEl.style.display =\n",
              "          google.colab.kernel.accessAllowed ? 'block' : 'none';\n",
              "\n",
              "        async function convertToInteractive(key) {\n",
              "          const element = document.querySelector('#df-9f85422f-d261-4385-90d5-4367dd147872');\n",
              "          const dataTable =\n",
              "            await google.colab.kernel.invokeFunction('convertToInteractive',\n",
              "                                                     [key], {});\n",
              "          if (!dataTable) return;\n",
              "\n",
              "          const docLinkHtml = 'Like what you see? Visit the ' +\n",
              "            '<a target=\"_blank\" href=https://colab.research.google.com/notebooks/data_table.ipynb>data table notebook</a>'\n",
              "            + ' to learn more about interactive tables.';\n",
              "          element.innerHTML = '';\n",
              "          dataTable['output_type'] = 'display_data';\n",
              "          await google.colab.output.renderOutput(dataTable, element);\n",
              "          const docLink = document.createElement('div');\n",
              "          docLink.innerHTML = docLinkHtml;\n",
              "          element.appendChild(docLink);\n",
              "        }\n",
              "      </script>\n",
              "    </div>\n",
              "  </div>\n",
              "  "
            ]
          },
          "metadata": {},
          "execution_count": 21
        }
      ]
    },
    {
      "cell_type": "code",
      "source": [
        "df.info()"
      ],
      "metadata": {
        "colab": {
          "base_uri": "https://localhost:8080/"
        },
        "id": "Cb-B6Z4d-pLr",
        "outputId": "2104c819-4eca-4a83-89de-5ddad187b083"
      },
      "execution_count": 22,
      "outputs": [
        {
          "output_type": "stream",
          "name": "stdout",
          "text": [
            "<class 'pandas.core.frame.DataFrame'>\n",
            "RangeIndex: 555719 entries, 0 to 555718\n",
            "Data columns (total 9 columns):\n",
            " #   Column      Non-Null Count   Dtype   \n",
            "---  ------      --------------   -----   \n",
            " 0   Unnamed: 0  555719 non-null  int64   \n",
            " 1   cc_num      555719 non-null  int64   \n",
            " 2   zip         555719 non-null  int64   \n",
            " 3   city_pop    555719 non-null  int64   \n",
            " 4   job         555719 non-null  category\n",
            " 5   dob         555719 non-null  category\n",
            " 6   trans_num   555719 non-null  category\n",
            " 7   unix_time   555719 non-null  int64   \n",
            " 8   is_fraud    555719 non-null  int64   \n",
            "dtypes: category(3), int64(6)\n",
            "memory usage: 50.1 MB\n"
          ]
        }
      ]
    },
    {
      "cell_type": "code",
      "source": [
        "columns_to_delete=[\"zip\", \"city_pop\",\"job\",\"dob\",\"unix_time\",\"trans_num\"]\n",
        "df.drop(columns_to_delete,inplace=True,axis=1)\n",
        "df"
      ],
      "metadata": {
        "colab": {
          "base_uri": "https://localhost:8080/",
          "height": 423
        },
        "id": "L_TDWllaKC8Z",
        "outputId": "41c92435-8741-41f3-bcc6-0fcf5ae1f8e0"
      },
      "execution_count": 30,
      "outputs": [
        {
          "output_type": "execute_result",
          "data": {
            "text/plain": [
              "        Unnamed: 0            cc_num  is_fraud\n",
              "0                0  2291163933867244         0\n",
              "1                1  3573030041201292         0\n",
              "2                2  3598215285024754         0\n",
              "3                3  3591919803438423         0\n",
              "4                4  3526826139003047         0\n",
              "...            ...               ...       ...\n",
              "555714      555714    30560609640617         0\n",
              "555715      555715  3556613125071656         0\n",
              "555716      555716  6011724471098086         0\n",
              "555717      555717     4079773899158         0\n",
              "555718      555718  4170689372027579         0\n",
              "\n",
              "[555719 rows x 3 columns]"
            ],
            "text/html": [
              "\n",
              "  <div id=\"df-7372bffd-5670-42cc-884b-fb173fc45fd2\">\n",
              "    <div class=\"colab-df-container\">\n",
              "      <div>\n",
              "<style scoped>\n",
              "    .dataframe tbody tr th:only-of-type {\n",
              "        vertical-align: middle;\n",
              "    }\n",
              "\n",
              "    .dataframe tbody tr th {\n",
              "        vertical-align: top;\n",
              "    }\n",
              "\n",
              "    .dataframe thead th {\n",
              "        text-align: right;\n",
              "    }\n",
              "</style>\n",
              "<table border=\"1\" class=\"dataframe\">\n",
              "  <thead>\n",
              "    <tr style=\"text-align: right;\">\n",
              "      <th></th>\n",
              "      <th>Unnamed: 0</th>\n",
              "      <th>cc_num</th>\n",
              "      <th>is_fraud</th>\n",
              "    </tr>\n",
              "  </thead>\n",
              "  <tbody>\n",
              "    <tr>\n",
              "      <th>0</th>\n",
              "      <td>0</td>\n",
              "      <td>2291163933867244</td>\n",
              "      <td>0</td>\n",
              "    </tr>\n",
              "    <tr>\n",
              "      <th>1</th>\n",
              "      <td>1</td>\n",
              "      <td>3573030041201292</td>\n",
              "      <td>0</td>\n",
              "    </tr>\n",
              "    <tr>\n",
              "      <th>2</th>\n",
              "      <td>2</td>\n",
              "      <td>3598215285024754</td>\n",
              "      <td>0</td>\n",
              "    </tr>\n",
              "    <tr>\n",
              "      <th>3</th>\n",
              "      <td>3</td>\n",
              "      <td>3591919803438423</td>\n",
              "      <td>0</td>\n",
              "    </tr>\n",
              "    <tr>\n",
              "      <th>4</th>\n",
              "      <td>4</td>\n",
              "      <td>3526826139003047</td>\n",
              "      <td>0</td>\n",
              "    </tr>\n",
              "    <tr>\n",
              "      <th>...</th>\n",
              "      <td>...</td>\n",
              "      <td>...</td>\n",
              "      <td>...</td>\n",
              "    </tr>\n",
              "    <tr>\n",
              "      <th>555714</th>\n",
              "      <td>555714</td>\n",
              "      <td>30560609640617</td>\n",
              "      <td>0</td>\n",
              "    </tr>\n",
              "    <tr>\n",
              "      <th>555715</th>\n",
              "      <td>555715</td>\n",
              "      <td>3556613125071656</td>\n",
              "      <td>0</td>\n",
              "    </tr>\n",
              "    <tr>\n",
              "      <th>555716</th>\n",
              "      <td>555716</td>\n",
              "      <td>6011724471098086</td>\n",
              "      <td>0</td>\n",
              "    </tr>\n",
              "    <tr>\n",
              "      <th>555717</th>\n",
              "      <td>555717</td>\n",
              "      <td>4079773899158</td>\n",
              "      <td>0</td>\n",
              "    </tr>\n",
              "    <tr>\n",
              "      <th>555718</th>\n",
              "      <td>555718</td>\n",
              "      <td>4170689372027579</td>\n",
              "      <td>0</td>\n",
              "    </tr>\n",
              "  </tbody>\n",
              "</table>\n",
              "<p>555719 rows × 3 columns</p>\n",
              "</div>\n",
              "      <button class=\"colab-df-convert\" onclick=\"convertToInteractive('df-7372bffd-5670-42cc-884b-fb173fc45fd2')\"\n",
              "              title=\"Convert this dataframe to an interactive table.\"\n",
              "              style=\"display:none;\">\n",
              "        \n",
              "  <svg xmlns=\"http://www.w3.org/2000/svg\" height=\"24px\"viewBox=\"0 0 24 24\"\n",
              "       width=\"24px\">\n",
              "    <path d=\"M0 0h24v24H0V0z\" fill=\"none\"/>\n",
              "    <path d=\"M18.56 5.44l.94 2.06.94-2.06 2.06-.94-2.06-.94-.94-2.06-.94 2.06-2.06.94zm-11 1L8.5 8.5l.94-2.06 2.06-.94-2.06-.94L8.5 2.5l-.94 2.06-2.06.94zm10 10l.94 2.06.94-2.06 2.06-.94-2.06-.94-.94-2.06-.94 2.06-2.06.94z\"/><path d=\"M17.41 7.96l-1.37-1.37c-.4-.4-.92-.59-1.43-.59-.52 0-1.04.2-1.43.59L10.3 9.45l-7.72 7.72c-.78.78-.78 2.05 0 2.83L4 21.41c.39.39.9.59 1.41.59.51 0 1.02-.2 1.41-.59l7.78-7.78 2.81-2.81c.8-.78.8-2.07 0-2.86zM5.41 20L4 18.59l7.72-7.72 1.47 1.35L5.41 20z\"/>\n",
              "  </svg>\n",
              "      </button>\n",
              "      \n",
              "  <style>\n",
              "    .colab-df-container {\n",
              "      display:flex;\n",
              "      flex-wrap:wrap;\n",
              "      gap: 12px;\n",
              "    }\n",
              "\n",
              "    .colab-df-convert {\n",
              "      background-color: #E8F0FE;\n",
              "      border: none;\n",
              "      border-radius: 50%;\n",
              "      cursor: pointer;\n",
              "      display: none;\n",
              "      fill: #1967D2;\n",
              "      height: 32px;\n",
              "      padding: 0 0 0 0;\n",
              "      width: 32px;\n",
              "    }\n",
              "\n",
              "    .colab-df-convert:hover {\n",
              "      background-color: #E2EBFA;\n",
              "      box-shadow: 0px 1px 2px rgba(60, 64, 67, 0.3), 0px 1px 3px 1px rgba(60, 64, 67, 0.15);\n",
              "      fill: #174EA6;\n",
              "    }\n",
              "\n",
              "    [theme=dark] .colab-df-convert {\n",
              "      background-color: #3B4455;\n",
              "      fill: #D2E3FC;\n",
              "    }\n",
              "\n",
              "    [theme=dark] .colab-df-convert:hover {\n",
              "      background-color: #434B5C;\n",
              "      box-shadow: 0px 1px 3px 1px rgba(0, 0, 0, 0.15);\n",
              "      filter: drop-shadow(0px 1px 2px rgba(0, 0, 0, 0.3));\n",
              "      fill: #FFFFFF;\n",
              "    }\n",
              "  </style>\n",
              "\n",
              "      <script>\n",
              "        const buttonEl =\n",
              "          document.querySelector('#df-7372bffd-5670-42cc-884b-fb173fc45fd2 button.colab-df-convert');\n",
              "        buttonEl.style.display =\n",
              "          google.colab.kernel.accessAllowed ? 'block' : 'none';\n",
              "\n",
              "        async function convertToInteractive(key) {\n",
              "          const element = document.querySelector('#df-7372bffd-5670-42cc-884b-fb173fc45fd2');\n",
              "          const dataTable =\n",
              "            await google.colab.kernel.invokeFunction('convertToInteractive',\n",
              "                                                     [key], {});\n",
              "          if (!dataTable) return;\n",
              "\n",
              "          const docLinkHtml = 'Like what you see? Visit the ' +\n",
              "            '<a target=\"_blank\" href=https://colab.research.google.com/notebooks/data_table.ipynb>data table notebook</a>'\n",
              "            + ' to learn more about interactive tables.';\n",
              "          element.innerHTML = '';\n",
              "          dataTable['output_type'] = 'display_data';\n",
              "          await google.colab.output.renderOutput(dataTable, element);\n",
              "          const docLink = document.createElement('div');\n",
              "          docLink.innerHTML = docLinkHtml;\n",
              "          element.appendChild(docLink);\n",
              "        }\n",
              "      </script>\n",
              "    </div>\n",
              "  </div>\n",
              "  "
            ]
          },
          "metadata": {},
          "execution_count": 30
        }
      ]
    },
    {
      "cell_type": "code",
      "source": [
        "df.info()"
      ],
      "metadata": {
        "colab": {
          "base_uri": "https://localhost:8080/"
        },
        "id": "KJCCJxwNKgDU",
        "outputId": "6cd5f3c9-45e7-4789-bfca-2f64c6282a45"
      },
      "execution_count": 31,
      "outputs": [
        {
          "output_type": "stream",
          "name": "stdout",
          "text": [
            "<class 'pandas.core.frame.DataFrame'>\n",
            "RangeIndex: 555719 entries, 0 to 555718\n",
            "Data columns (total 3 columns):\n",
            " #   Column      Non-Null Count   Dtype\n",
            "---  ------      --------------   -----\n",
            " 0   Unnamed: 0  555719 non-null  int64\n",
            " 1   cc_num      555719 non-null  int64\n",
            " 2   is_fraud    555719 non-null  int64\n",
            "dtypes: int64(3)\n",
            "memory usage: 12.7 MB\n"
          ]
        }
      ]
    },
    {
      "cell_type": "code",
      "source": [
        "# Split the data into training and testing sets\n",
        "X_train, X_test, y_train, y_test = train_test_split(df.drop('is_fraud', axis=1), df['is_fraud'], test_size=0.3, random_state=42)"
      ],
      "metadata": {
        "id": "vTkXH61h6vzH"
      },
      "execution_count": 32,
      "outputs": []
    },
    {
      "cell_type": "code",
      "source": [],
      "metadata": {
        "id": "AhnMQdZY89ix"
      },
      "execution_count": null,
      "outputs": []
    },
    {
      "cell_type": "code",
      "source": [
        "import numpy as np\n",
        "import pandas as pd\n",
        "from sklearn.model_selection import train_test_split\n",
        "from sklearn.linear_model import LogisticRegression\n",
        "from sklearn.tree import DecisionTreeClassifier\n",
        "from sklearn.ensemble import RandomForestClassifier\n",
        "from sklearn.svm import SVC\n",
        "from sklearn.metrics import r2_score, mean_absolute_error, mean_squared_error\n",
        "\n",
        "\n",
        "# Train and evaluate Logistic Regression model\n",
        "lr = LogisticRegression()\n",
        "lr.fit(X_train, y_train)\n",
        "lr_pred = lr.predict(X_test)\n",
        "lr_acc = accuracy_score(y_test, lr_pred) * 100\n",
        "print('Logistic Regression Accuracy:',lr_acc)"
      ],
      "metadata": {
        "colab": {
          "base_uri": "https://localhost:8080/"
        },
        "id": "x28ZO_Jm72CM",
        "outputId": "42492672-9805-43a7-d5de-e5901f4afbc3"
      },
      "execution_count": 34,
      "outputs": [
        {
          "output_type": "stream",
          "name": "stdout",
          "text": [
            "Logistic Regression Accuracy: 99.6161136303654\n"
          ]
        },
        {
          "output_type": "stream",
          "name": "stderr",
          "text": [
            "/usr/local/lib/python3.10/dist-packages/sklearn/linear_model/_logistic.py:458: ConvergenceWarning: lbfgs failed to converge (status=2):\n",
            "ABNORMAL_TERMINATION_IN_LNSRCH.\n",
            "\n",
            "Increase the number of iterations (max_iter) or scale the data as shown in:\n",
            "    https://scikit-learn.org/stable/modules/preprocessing.html\n",
            "Please also refer to the documentation for alternative solver options:\n",
            "    https://scikit-learn.org/stable/modules/linear_model.html#logistic-regression\n",
            "  n_iter_i = _check_optimize_result(\n"
          ]
        }
      ]
    },
    {
      "cell_type": "code",
      "source": [
        "from sklearn.metrics import precision_score,recall_score,f1_score\n",
        "precision_data=precision_score(y_test, lr_pred)*100\n",
        "recall_data=recall_score(y_test, lr_pred)\n",
        "f1_score_data=f1_score(y_test, lr_pred)"
      ],
      "metadata": {
        "colab": {
          "base_uri": "https://localhost:8080/"
        },
        "id": "piXh1wQu8M9d",
        "outputId": "8e803f2b-801a-4633-c50b-3222eca87929"
      },
      "execution_count": 46,
      "outputs": [
        {
          "output_type": "stream",
          "name": "stderr",
          "text": [
            "/usr/local/lib/python3.10/dist-packages/sklearn/metrics/_classification.py:1344: UndefinedMetricWarning: Precision is ill-defined and being set to 0.0 due to no predicted samples. Use `zero_division` parameter to control this behavior.\n",
            "  _warn_prf(average, modifier, msg_start, len(result))\n"
          ]
        }
      ]
    },
    {
      "cell_type": "code",
      "source": [
        "precision_data"
      ],
      "metadata": {
        "colab": {
          "base_uri": "https://localhost:8080/"
        },
        "id": "bk67sy0cLPUV",
        "outputId": "a9545ac4-3b7e-48f7-eccb-ef15af3cea0e"
      },
      "execution_count": 44,
      "outputs": [
        {
          "output_type": "execute_result",
          "data": {
            "text/plain": [
              "100.0"
            ]
          },
          "metadata": {},
          "execution_count": 44
        }
      ]
    },
    {
      "cell_type": "code",
      "source": [
        "recall_data"
      ],
      "metadata": {
        "colab": {
          "base_uri": "https://localhost:8080/"
        },
        "id": "EDgSlSsrMvuG",
        "outputId": "b0077fe8-60a1-4aa2-dfda-2fa1303b6e48"
      },
      "execution_count": 45,
      "outputs": [
        {
          "output_type": "execute_result",
          "data": {
            "text/plain": [
              "0.0"
            ]
          },
          "metadata": {},
          "execution_count": 45
        }
      ]
    },
    {
      "cell_type": "code",
      "source": [
        "# Train and evaluate Decision Tree Classifier model\n",
        "dtc = DecisionTreeClassifier()\n",
        "dtc.fit(X_train, y_train)\n",
        "dtc_pred = dtc.predict(X_test)\n",
        "dtc_acc = accuracy_score(y_test, dtc_pred)* 100\n",
        "\n",
        "print('Decision Tree Classifier accuracy:', dtc_acc)"
      ],
      "metadata": {
        "colab": {
          "base_uri": "https://localhost:8080/"
        },
        "id": "u0dEyD6NMyV8",
        "outputId": "86f780a2-163e-446d-f556-1efe25e319b0"
      },
      "execution_count": 47,
      "outputs": [
        {
          "output_type": "stream",
          "name": "stdout",
          "text": [
            "Decision Tree Classifier accuracy: 99.80745699273015\n"
          ]
        }
      ]
    },
    {
      "cell_type": "code",
      "source": [
        "from sklearn.metrics import precision_score,recall_score,f1_score\n",
        "precision_data=precision_score(y_test, dtc_pred)* 100\n",
        "recall_data=recall_score(y_test, dtc_pred)* 100\n",
        "f1_score_data=f1_score(y_test, dtc_pred)* 100"
      ],
      "metadata": {
        "id": "CXAkyCfMN8aO"
      },
      "execution_count": 48,
      "outputs": []
    },
    {
      "cell_type": "code",
      "source": [
        "precision_data"
      ],
      "metadata": {
        "colab": {
          "base_uri": "https://localhost:8080/"
        },
        "id": "ypB_WMccODeo",
        "outputId": "10345ca1-10de-4530-d277-759c9c416fd8"
      },
      "execution_count": 49,
      "outputs": [
        {
          "output_type": "execute_result",
          "data": {
            "text/plain": [
              "72.88378766140603"
            ]
          },
          "metadata": {},
          "execution_count": 49
        }
      ]
    },
    {
      "cell_type": "code",
      "source": [
        "recall_data"
      ],
      "metadata": {
        "colab": {
          "base_uri": "https://localhost:8080/"
        },
        "id": "zxrG7YZLOFEW",
        "outputId": "144e1104-e5e9-4c4d-8a4a-895d6f93e88e"
      },
      "execution_count": 50,
      "outputs": [
        {
          "output_type": "execute_result",
          "data": {
            "text/plain": [
              "79.375"
            ]
          },
          "metadata": {},
          "execution_count": 50
        }
      ]
    },
    {
      "cell_type": "code",
      "source": [
        "f1_score_data"
      ],
      "metadata": {
        "colab": {
          "base_uri": "https://localhost:8080/"
        },
        "id": "CBsaOdBrOGw8",
        "outputId": "c5082b7f-8c4b-4bf5-f8bc-5c14a6fb6205"
      },
      "execution_count": 51,
      "outputs": [
        {
          "output_type": "execute_result",
          "data": {
            "text/plain": [
              "75.99102468212416"
            ]
          },
          "metadata": {},
          "execution_count": 51
        }
      ]
    },
    {
      "cell_type": "code",
      "source": [
        "# Define the data for the bar diagram\n",
        "models = ['F1 Score', 'Precision', 'Recall', 'Accuracy']\n",
        "accuracies = [f1_score_data, precision_data, recall_data, dtc_acc]\n",
        "colors = ['r', 'g', 'b', 'y']\n",
        "# Create the bar diagram\n",
        "fig, ax = plt.subplots()\n",
        "rects = ax.bar(models, accuracies,color=colors)\n",
        "\n",
        "# Add the values to the bars\n",
        "for rect in rects:\n",
        "    height = rect.get_height()\n",
        "    ax.annotate(f'{height:.2f}', xy=(rect.get_x() + rect.get_width() / 2, height), xytext=(0, 3), \n",
        "                textcoords=\"offset points\", ha='center', va='bottom')\n",
        "\n",
        "# Add labels and a title\n",
        "ax.set_xlabel('Decision Tree')\n",
        "ax.set_ylabel('Accuracy Score')\n",
        "ax.set_title('DT Different Performance Metrics Scores')\n",
        "\n",
        "# Show the plot\n",
        "plt.show()\n"
      ],
      "metadata": {
        "colab": {
          "base_uri": "https://localhost:8080/",
          "height": 472
        },
        "id": "eOxRNL9-OIk7",
        "outputId": "0b6d3dd8-9973-4d3e-8743-f923a2b27755"
      },
      "execution_count": 52,
      "outputs": [
        {
          "output_type": "display_data",
          "data": {
            "text/plain": [
              "<Figure size 640x480 with 1 Axes>"
            ],
            "image/png": "[encoded data removed]"
          },
          "metadata": {}
        }
      ]
    },
    {
      "cell_type": "code",
      "source": [
        "# Train and evaluate Random Forest Classifier model\n",
        "rfc = RandomForestClassifier()\n",
        "rfc.fit(X_train, y_train)\n",
        "rfc_pred = rfc.predict(X_test)\n",
        "rfc_acc = accuracy_score(y_test, rfc_pred)* 100\n",
        "print('Random Forest Classifier accuracy:', rfc_acc)"
      ],
      "metadata": {
        "colab": {
          "base_uri": "https://localhost:8080/"
        },
        "id": "Jzkqjo8yOL0M",
        "outputId": "e16ed7de-9e01-4dcc-b408-27a08e8aec67"
      },
      "execution_count": 53,
      "outputs": [
        {
          "output_type": "stream",
          "name": "stdout",
          "text": [
            "Random Forest Classifier accuracy: 99.92022361381031\n"
          ]
        }
      ]
    },
    {
      "cell_type": "code",
      "source": [
        "from sklearn.metrics import precision_score,recall_score,f1_score\n",
        "precision_data=precision_score(y_test, rfc_pred)* 100\n",
        "recall_data=recall_score(y_test, rfc_pred)* 100\n",
        "f1_score_data=f1_score(y_test, rfc_pred)* 100\n",
        "\n",
        "precision_data\n",
        "\n",
        "\n",
        "\n"
      ],
      "metadata": {
        "colab": {
          "base_uri": "https://localhost:8080/"
        },
        "id": "DIKT5UgdOTPP",
        "outputId": "6bfb4e2a-3d85-4cb9-8ad2-d61e5fadd98f"
      },
      "execution_count": 54,
      "outputs": [
        {
          "output_type": "execute_result",
          "data": {
            "text/plain": [
              "89.01734104046244"
            ]
          },
          "metadata": {},
          "execution_count": 54
        }
      ]
    },
    {
      "cell_type": "code",
      "source": [
        "recall_data"
      ],
      "metadata": {
        "colab": {
          "base_uri": "https://localhost:8080/"
        },
        "id": "V3cHpNsoOlbZ",
        "outputId": "13ddcd16-ece5-46b8-ac20-75713117444a"
      },
      "execution_count": 55,
      "outputs": [
        {
          "output_type": "execute_result",
          "data": {
            "text/plain": [
              "84.21875"
            ]
          },
          "metadata": {},
          "execution_count": 55
        }
      ]
    },
    {
      "cell_type": "code",
      "source": [
        "f1_score_data"
      ],
      "metadata": {
        "colab": {
          "base_uri": "https://localhost:8080/"
        },
        "id": "9ixfLFMWOoV4",
        "outputId": "0d30c825-b930-4ab9-f6c8-a3547064ce02"
      },
      "execution_count": 56,
      "outputs": [
        {
          "output_type": "execute_result",
          "data": {
            "text/plain": [
              "89.01734104046244"
            ]
          },
          "metadata": {},
          "execution_count": 56
        }
      ]
    },
    {
      "cell_type": "code",
      "source": [
        "# Define the data for the bar diagram\n",
        "models = ['F1 Score', 'Precision', 'Recall', 'Accuracy']\n",
        "accuracies = [f1_score_data, precision_data, recall_data, rfc_acc]\n",
        "colors = ['r', 'g', 'b', 'y']\n",
        "# Create the bar diagram\n",
        "fig, ax = plt.subplots()\n",
        "rects = ax.bar(models, accuracies,color=colors)\n",
        "\n",
        "# Add the values to the bars\n",
        "for rect in rects:\n",
        "    height = rect.get_height()\n",
        "    ax.annotate(f'{height:.2f}', xy=(rect.get_x() + rect.get_width() / 2, height), xytext=(0, 3), \n",
        "                textcoords=\"offset points\", ha='center', va='bottom')\n",
        "\n",
        "# Add labels and a title\n",
        "ax.set_xlabel('Random Forest Classifier')\n",
        "ax.set_ylabel('Accuracy Score')\n",
        "ax.set_title('RF Different Performance Metrics Scores')\n",
        "\n",
        "# Show the plot\n",
        "plt.show()\n"
      ],
      "metadata": {
        "colab": {
          "base_uri": "https://localhost:8080/",
          "height": 472
        },
        "id": "hQ4cZ7yIOqBR",
        "outputId": "275eb327-d290-4b79-9983-50c93ce9b6bc"
      },
      "execution_count": 57,
      "outputs": [
        {
          "output_type": "display_data",
          "data": {
            "text/plain": [
              "<Figure size 640x480 with 1 Axes>"
            ],
            "image/png": "[encoded data removed]"
          },
          "metadata": {}
        }
      ]
    },
    {
      "cell_type": "code",
      "source": [
        "# Train and evaluate Support Vector Machine model\n",
        "svm = SVC()\n",
        "svm.fit(X_train, y_train)\n",
        "svm_pred = svm.predict(X_test)\n",
        "svm_acc = accuracy_score(y_test, svm_pred)* 100\n",
        "print('Support Vector Machine accuracy:', svm_acc)"
      ],
      "metadata": {
        "colab": {
          "base_uri": "https://localhost:8080/"
        },
        "id": "4OhLoy2ZOsxu",
        "outputId": "07b9faaa-70d3-4ac7-c702-ec2c57a6cf78"
      },
      "execution_count": 58,
      "outputs": [
        {
          "output_type": "stream",
          "name": "stdout",
          "text": [
            "Support Vector Machine accuracy: 99.6161136303654\n"
          ]
        }
      ]
    },
    {
      "cell_type": "code",
      "source": [
        "from sklearn.metrics import precision_score,recall_score,f1_score\n",
        "precision_data=precision_score(y_test, svm_pred)* 100\n",
        "recall_data=recall_score(y_test, svm_pred)* 100\n",
        "f1_score_data=f1_score(y_test, svm_pred)* 100"
      ],
      "metadata": {
        "colab": {
          "base_uri": "https://localhost:8080/"
        },
        "id": "dK75D15KOw4G",
        "outputId": "aac56801-643f-4309-b757-4772a7100e2b"
      },
      "execution_count": 59,
      "outputs": [
        {
          "output_type": "stream",
          "name": "stderr",
          "text": [
            "/usr/local/lib/python3.10/dist-packages/sklearn/metrics/_classification.py:1344: UndefinedMetricWarning: Precision is ill-defined and being set to 0.0 due to no predicted samples. Use `zero_division` parameter to control this behavior.\n",
            "  _warn_prf(average, modifier, msg_start, len(result))\n"
          ]
        }
      ]
    },
    {
      "cell_type": "code",
      "source": [
        "precision_data"
      ],
      "metadata": {
        "colab": {
          "base_uri": "https://localhost:8080/"
        },
        "id": "s_WeWzJGPLoM",
        "outputId": "8508e59b-a2ee-4cc9-b0ed-4484cbdce5c7"
      },
      "execution_count": 60,
      "outputs": [
        {
          "output_type": "execute_result",
          "data": {
            "text/plain": [
              "0.0"
            ]
          },
          "metadata": {},
          "execution_count": 60
        }
      ]
    },
    {
      "cell_type": "code",
      "source": [
        "# Define the data for the bar diagram\n",
        "models = ['F1 Score', 'Precision', 'Recall', 'Accuracy']\n",
        "accuracies = [f1_score_data, precision_data, recall_data, svm_acc]\n",
        "colors = ['r', 'g', 'b', 'y']\n",
        "# Create the bar diagram\n",
        "fig, ax = plt.subplots()\n",
        "rects = ax.bar(models, accuracies,color=colors)\n",
        "\n",
        "# Add the values to the bars\n",
        "for rect in rects:\n",
        "    height = rect.get_height()\n",
        "    ax.annotate(f'{height:.2f}', xy=(rect.get_x() + rect.get_width() / 2, height), xytext=(0, 3), \n",
        "                textcoords=\"offset points\", ha='center', va='bottom')\n",
        "\n",
        "# Add labels and a title\n",
        "ax.set_xlabel('Support Vector Machine')\n",
        "ax.set_ylabel('Accuracy Score')\n",
        "ax.set_title('SVM Different Performance Metrics Scores')\n",
        "\n",
        "# Show the plot\n",
        "plt.show()"
      ],
      "metadata": {
        "colab": {
          "base_uri": "https://localhost:8080/",
          "height": 472
        },
        "id": "g0ukE9gsPNN-",
        "outputId": "3679978a-738a-4b97-c344-1bf7ab28b91a"
      },
      "execution_count": 61,
      "outputs": [
        {
          "output_type": "display_data",
          "data": {
            "text/plain": [
              "<Figure size 640x480 with 1 Axes>"
            ],
            "image/png": "[encoded data removed]"
          },
          "metadata": {}
        }
      ]
    },
    {
      "cell_type": "code",
      "source": [
        "# Train and evaluate Multi-Layer Perceptron model\n",
        "mlp = MLPClassifier()\n",
        "mlp.fit(X_train, y_train)\n",
        "mlp_pred = mlp.predict(X_test)\n",
        "mlp_acc = accuracy_score(y_test, mlp_pred)* 100\n",
        "print('Multi-Layer Perceptron accuracy:', mlp_acc)"
      ],
      "metadata": {
        "colab": {
          "base_uri": "https://localhost:8080/"
        },
        "id": "ZoDRiOCXPXo-",
        "outputId": "541ab82a-24ba-4e2e-9257-378acb82f3b4"
      },
      "execution_count": 62,
      "outputs": [
        {
          "output_type": "stream",
          "name": "stdout",
          "text": [
            "Multi-Layer Perceptron accuracy: 99.6161136303654\n"
          ]
        }
      ]
    },
    {
      "cell_type": "code",
      "source": [
        "from sklearn.metrics import precision_score,recall_score,f1_score\n",
        "precision_data=precision_score(y_test, mlp_pred)* 100\n",
        "recall_data=recall_score(y_test, mlp_pred)* 100\n",
        "f1_score_data=f1_score(y_test, mlp_pred)* 100"
      ],
      "metadata": {
        "colab": {
          "base_uri": "https://localhost:8080/"
        },
        "id": "cVsNUFLqPa6D",
        "outputId": "893c1f90-327c-4aeb-87bf-ba41f9bb1c96"
      },
      "execution_count": 63,
      "outputs": [
        {
          "output_type": "stream",
          "name": "stderr",
          "text": [
            "/usr/local/lib/python3.10/dist-packages/sklearn/metrics/_classification.py:1344: UndefinedMetricWarning: Precision is ill-defined and being set to 0.0 due to no predicted samples. Use `zero_division` parameter to control this behavior.\n",
            "  _warn_prf(average, modifier, msg_start, len(result))\n"
          ]
        }
      ]
    },
    {
      "cell_type": "code",
      "source": [
        "# Define the data for the bar diagram\n",
        "models = ['F1 Score', 'Precision', 'Recall', 'Accuracy']\n",
        "accuracies = [f1_score_data, precision_data, recall_data, mlp_acc]\n",
        "colors = ['r', 'g', 'b', 'y']\n",
        "# Create the bar diagram\n",
        "fig, ax = plt.subplots()\n",
        "rects = ax.bar(models, accuracies,color=colors)\n",
        "\n",
        "# Add the values to the bars\n",
        "for rect in rects:\n",
        "    height = rect.get_height()\n",
        "    ax.annotate(f'{height:.2f}', xy=(rect.get_x() + rect.get_width() / 2, height), xytext=(0, 3), \n",
        "                textcoords=\"offset points\", ha='center', va='bottom')\n",
        "\n",
        "# Add labels and a title\n",
        "ax.set_xlabel('Multi-Layer Perceptron model')\n",
        "ax.set_ylabel('Accuracy Score')\n",
        "ax.set_title('MLP Different Performance Metrics Scores')\n",
        "\n",
        "# Show the plot\n",
        "plt.show()"
      ],
      "metadata": {
        "colab": {
          "base_uri": "https://localhost:8080/",
          "height": 472
        },
        "id": "Ol0KQ2mLPdOP",
        "outputId": "0aae8d83-b4ea-4ede-9a8f-04bba993cdcb"
      },
      "execution_count": 64,
      "outputs": [
        {
          "output_type": "display_data",
          "data": {
            "text/plain": [
              "<Figure size 640x480 with 1 Axes>"
            ],
            "image/png": "[encoded data removed]"
          },
          "metadata": {}
        }
      ]
    },
    {
      "cell_type": "code",
      "source": [
        "# Train and evaluate KNN model\n",
        "knn = KNeighborsClassifier(n_neighbors=5)\n",
        "knn.fit(X_train, y_train)\n",
        "knn_pred = knn.predict(X_test)\n",
        "knn_acc = accuracy_score(y_test, knn_pred)* 100\n",
        "print('KNN Perceptron accuracy:', knn_acc)"
      ],
      "metadata": {
        "colab": {
          "base_uri": "https://localhost:8080/"
        },
        "id": "kMqb9FSGPgMK",
        "outputId": "6103addf-1e22-4114-ffdc-4f522077b7e0"
      },
      "execution_count": 65,
      "outputs": [
        {
          "output_type": "stream",
          "name": "stdout",
          "text": [
            "KNN Perceptron accuracy: 99.88363444420452\n"
          ]
        }
      ]
    },
    {
      "cell_type": "code",
      "source": [
        "from sklearn.metrics import precision_score,recall_score,f1_score\n",
        "precision_data=precision_score(y_test, knn_pred)* 100\n",
        "recall_data=recall_score(y_test, knn_pred)* 100\n",
        "f1_score_data=f1_score(y_test, knn_pred)* 100"
      ],
      "metadata": {
        "id": "U_Cc8I_SPkTc"
      },
      "execution_count": 66,
      "outputs": []
    },
    {
      "cell_type": "code",
      "source": [
        "# Define the data for the bar diagram\n",
        "models = ['F1 Score', 'Precision', 'Recall', 'Accuracy']\n",
        "accuracies = [f1_score_data, precision_data, recall_data, knn_acc]\n",
        "colors = ['r', 'g', 'b', 'y']\n",
        "# Create the bar diagram\n",
        "fig, ax = plt.subplots()\n",
        "rects = ax.bar(models, accuracies,color=colors)\n",
        "\n",
        "# Add the values to the bars\n",
        "for rect in rects:\n",
        "    height = rect.get_height()\n",
        "    ax.annotate(f'{height:.2f}', xy=(rect.get_x() + rect.get_width() / 2, height), xytext=(0, 3), \n",
        "                textcoords=\"offset points\", ha='center', va='bottom')\n",
        "\n",
        "# Add labels and a title\n",
        "ax.set_xlabel('KNN model')\n",
        "ax.set_ylabel('Accuracy Score')\n",
        "ax.set_title('KNN Different Performance Metrics Scores')\n",
        "\n",
        "# Show the plot\n",
        "plt.show()\n"
      ],
      "metadata": {
        "colab": {
          "base_uri": "https://localhost:8080/",
          "height": 472
        },
        "id": "LsCtVEmMPmTL",
        "outputId": "37628256-afc8-43da-deaf-857954f5c9d2"
      },
      "execution_count": 67,
      "outputs": [
        {
          "output_type": "display_data",
          "data": {
            "text/plain": [
              "<Figure size 640x480 with 1 Axes>"
            ],
            "image/png": "[encoded data removed]"
          },
          "metadata": {}
        }
      ]
    },
    {
      "cell_type": "code",
      "source": [
        "# Train and evaluate XGBoost model\n",
        "xgb = XGBClassifier()\n",
        "xgb.fit(X_train, y_train)\n",
        "xgb_pred = xgb.predict(X_test)\n",
        "xgb_acc = accuracy_score(y_test, xgb_pred)* 100\n",
        "print('XGB Perceptron accuracy:', xgb_acc)"
      ],
      "metadata": {
        "colab": {
          "base_uri": "https://localhost:8080/"
        },
        "id": "XMsSQBAePotZ",
        "outputId": "c728d2b3-a659-4d05-930f-fe67b44af723"
      },
      "execution_count": 68,
      "outputs": [
        {
          "output_type": "stream",
          "name": "stdout",
          "text": [
            "XGB Perceptron accuracy: 99.64610475299311\n"
          ]
        }
      ]
    },
    {
      "cell_type": "code",
      "source": [
        "from sklearn.metrics import precision_score,recall_score,f1_score\n",
        "precision_data=precision_score(y_test, xgb_pred)* 100\n",
        "recall_data=recall_score(y_test, xgb_pred)* 100\n",
        "f1_score_data=f1_score(y_test, xgb_pred)* 100"
      ],
      "metadata": {
        "id": "WtM7gw3WPrJD"
      },
      "execution_count": 69,
      "outputs": []
    },
    {
      "cell_type": "code",
      "source": [
        "# Define the data for the bar diagram\n",
        "models = ['F1 Score', 'Precision', 'Recall', 'Accuracy']\n",
        "accuracies = [f1_score_data, precision_data, recall_data, xgb_acc]\n",
        "colors = ['r', 'g', 'b', 'y']\n",
        "# Create the bar diagram\n",
        "fig, ax = plt.subplots()\n",
        "rects = ax.bar(models, accuracies,color=colors)\n",
        "\n",
        "# Add the values to the bars\n",
        "for rect in rects:\n",
        "    height = rect.get_height()\n",
        "    ax.annotate(f'{height:.2f}', xy=(rect.get_x() + rect.get_width() / 2, height), xytext=(0, 3), \n",
        "                textcoords=\"offset points\", ha='center', va='bottom')\n",
        "\n",
        "# Add labels and a title\n",
        "ax.set_xlabel('XGBoost model')\n",
        "ax.set_ylabel('Accuracy Score')\n",
        "ax.set_title('XGBoost Different Performance Metrics Scores')\n",
        "\n",
        "# Show the plot\n",
        "plt.show()\n"
      ],
      "metadata": {
        "colab": {
          "base_uri": "https://localhost:8080/",
          "height": 472
        },
        "id": "XKAbSoF8PtaW",
        "outputId": "520c2541-1788-4e98-fae7-3451ba28bfad"
      },
      "execution_count": 70,
      "outputs": [
        {
          "output_type": "display_data",
          "data": {
            "text/plain": [
              "<Figure size 640x480 with 1 Axes>"
            ],
            "image/png": "[encoded data removed]"
          },
          "metadata": {}
        }
      ]
    },
    {
      "cell_type": "code",
      "source": [
        "# Train the Naive Bayes classifier\n",
        "NBC = GaussianNB()\n",
        "NBC.fit(X_train, y_train)\n",
        "\n",
        "# Make predictions on the test set\n",
        "NBC_pred = NBC.predict(X_test)\n",
        "\n",
        "# Calculate the accuracy of the model\n",
        "NBC_acc = accuracy_score(y_test, NBC_pred)* 100\n",
        "print(\"Naive Bayes classifier Accuracy:\", NBC_acc)"
      ],
      "metadata": {
        "colab": {
          "base_uri": "https://localhost:8080/"
        },
        "id": "h2YF6EVSPv6L",
        "outputId": "7c08a47f-2018-4f39-c857-0290e6e73977"
      },
      "execution_count": 71,
      "outputs": [
        {
          "output_type": "stream",
          "name": "stdout",
          "text": [
            "Naive Bayes classifier Accuracy: 99.6161136303654\n"
          ]
        }
      ]
    },
    {
      "cell_type": "code",
      "source": [
        "from sklearn.metrics import precision_score,recall_score,f1_score\n",
        "precision_data=precision_score(y_test, NBC_pred)* 100\n",
        "recall_data=recall_score(y_test, NBC_pred)* 100\n",
        "f1_score_data=f1_score(y_test, NBC_pred)* 100"
      ],
      "metadata": {
        "colab": {
          "base_uri": "https://localhost:8080/"
        },
        "id": "Hxe0gK_WPywx",
        "outputId": "5159ee31-4b56-4395-b9ca-24a4c0c35f75"
      },
      "execution_count": 72,
      "outputs": [
        {
          "output_type": "stream",
          "name": "stderr",
          "text": [
            "/usr/local/lib/python3.10/dist-packages/sklearn/metrics/_classification.py:1344: UndefinedMetricWarning: Precision is ill-defined and being set to 0.0 due to no predicted samples. Use `zero_division` parameter to control this behavior.\n",
            "  _warn_prf(average, modifier, msg_start, len(result))\n"
          ]
        }
      ]
    },
    {
      "cell_type": "code",
      "source": [
        "# Define the data for the bar diagram\n",
        "models = ['F1 Score', 'Precision', 'Recall', 'Accuracy']\n",
        "accuracies = [f1_score_data, precision_data, recall_data, NBC_acc]\n",
        "colors = ['r', 'g', 'b', 'y']\n",
        "# Create the bar diagram\n",
        "fig, ax = plt.subplots()\n",
        "rects = ax.bar(models, accuracies,color=colors)\n",
        "\n",
        "# Add the values to the bars\n",
        "for rect in rects:\n",
        "    height = rect.get_height()\n",
        "    ax.annotate(f'{height:.2f}', xy=(rect.get_x() + rect.get_width() / 2, height), xytext=(0, 3), \n",
        "                textcoords=\"offset points\", ha='center', va='bottom')\n",
        "\n",
        "# Add labels and a title\n",
        "ax.set_xlabel('Naive Bayes classifier')\n",
        "ax.set_ylabel('Accuracy Score')\n",
        "ax.set_title('Naive Bayes Different Performance Metrics Scores')\n",
        "\n",
        "# Show the plot\n",
        "plt.show()\n"
      ],
      "metadata": {
        "colab": {
          "base_uri": "https://localhost:8080/",
          "height": 472
        },
        "id": "WQRaHqmUP0yC",
        "outputId": "71d17d83-d3d0-498c-9b2e-6bcf836c8d8a"
      },
      "execution_count": 73,
      "outputs": [
        {
          "output_type": "display_data",
          "data": {
            "text/plain": [
              "<Figure size 640x480 with 1 Axes>"
            ],
            "image/png": "[encoded data removed]"
          },
          "metadata": {}
        }
      ]
    },
    {
      "cell_type": "code",
      "source": [],
      "metadata": {
        "id": "kjLj4bmEP4Qr"
      },
      "execution_count": null,
      "outputs": []
    }
  ]
}